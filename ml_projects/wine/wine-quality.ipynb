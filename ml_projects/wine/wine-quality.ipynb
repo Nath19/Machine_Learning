{
 "cells": [
  {
   "cell_type": "markdown",
   "id": "executive-racing",
   "metadata": {},
   "source": [
    "\n",
    "# Red Wine Quality\n",
    "\n",
    "The two datasets are related to red and white variants of the Portuguese \"Vinho Verde\" wine. For more details, consult the reference [Cortez et al., 2009]. Due to privacy and logistic issues, only physicochemical (inputs) and sensory (the output) variables are available (e.g. there is no data about grape types, wine brand, wine selling price, etc.).\n",
    "This dataset is also available from the UCI machine learning repository, https://archive.ics.uci.edu/ml/datasets/wine+quality.\n",
    "\n",
    "\n",
    "Input variables (based on physicochemical tests):\n",
    "\n",
    "1 - fixed acidity \n",
    "\n",
    "2 - volatile acidity \n",
    "\n",
    "3 - citric acid \n",
    "\n",
    "4 - residual sugar \n",
    "\n",
    "5 - chlorides \n",
    "\n",
    "6 - free sulfur dioxide \n",
    "\n",
    "7 - total sulfur dioxide \n",
    "\n",
    "8 - density \n",
    "\n",
    "9 - pH \n",
    "\n",
    "10 - sulphates \n",
    "\n",
    "11 - alcohol \n",
    "\n",
    "Output variable (based on sensory data): \n",
    "\n",
    "12 - quality (score between 0 and 10) "
   ]
  },
  {
   "cell_type": "markdown",
   "id": "committed-length",
   "metadata": {},
   "source": [
    "What might be an interesting thing to do, is aside from using regression modelling, is to set an arbitrary cutoff for your dependent variable (wine quality) at e.g. 7 or higher getting classified as 'good/1' and the remainder as 'not good/0'."
   ]
  },
  {
   "cell_type": "markdown",
   "id": "occupational-cover",
   "metadata": {},
   "source": [
    "In this notebook we will handle this problem in classification and regression to see the different approach."
   ]
  },
  {
   "cell_type": "markdown",
   "id": "grand-spank",
   "metadata": {},
   "source": [
    "### Import libraries"
   ]
  },
  {
   "cell_type": "code",
   "execution_count": 138,
   "id": "broadband-minutes",
   "metadata": {},
   "outputs": [],
   "source": [
    "import pandas as pd\n",
    "import seaborn as sns\n",
    "import numpy as np\n",
    "import matplotlib.pyplot as plt\n",
    "%matplotlib inline\n",
    "from matplotlib import pyplot\n",
    "sns.set(style='white', context='notebook', palette='deep')\n",
    "from scipy.stats import pearsonr\n",
    "from sklearn.model_selection import train_test_split\n",
    "\n",
    "\n",
    "from sklearn.linear_model import LogisticRegression\n",
    "from sklearn.neighbors import KNeighborsClassifier as KNN\n",
    "from sklearn.svm import SVC\n",
    "from sklearn.naive_bayes import GaussianNB\n",
    "from sklearn.ensemble import RandomForestClassifier \n",
    "from sklearn.model_selection import cross_val_score\n",
    "from sklearn.metrics import confusion_matrix \n",
    "\n",
    "%config Completer.use_jedi = False\n"
   ]
  },
  {
   "cell_type": "code",
   "execution_count": 2,
   "id": "comfortable-candy",
   "metadata": {},
   "outputs": [],
   "source": [
    "wine = pd.read_csv('winequality-red.csv')"
   ]
  },
  {
   "cell_type": "code",
   "execution_count": 3,
   "id": "passive-kazakhstan",
   "metadata": {},
   "outputs": [
    {
     "data": {
      "text/html": [
       "<div>\n",
       "<style scoped>\n",
       "    .dataframe tbody tr th:only-of-type {\n",
       "        vertical-align: middle;\n",
       "    }\n",
       "\n",
       "    .dataframe tbody tr th {\n",
       "        vertical-align: top;\n",
       "    }\n",
       "\n",
       "    .dataframe thead th {\n",
       "        text-align: right;\n",
       "    }\n",
       "</style>\n",
       "<table border=\"1\" class=\"dataframe\">\n",
       "  <thead>\n",
       "    <tr style=\"text-align: right;\">\n",
       "      <th></th>\n",
       "      <th>fixed acidity</th>\n",
       "      <th>volatile acidity</th>\n",
       "      <th>citric acid</th>\n",
       "      <th>residual sugar</th>\n",
       "      <th>chlorides</th>\n",
       "      <th>free sulfur dioxide</th>\n",
       "      <th>total sulfur dioxide</th>\n",
       "      <th>density</th>\n",
       "      <th>pH</th>\n",
       "      <th>sulphates</th>\n",
       "      <th>alcohol</th>\n",
       "      <th>quality</th>\n",
       "    </tr>\n",
       "  </thead>\n",
       "  <tbody>\n",
       "    <tr>\n",
       "      <th>0</th>\n",
       "      <td>7.4</td>\n",
       "      <td>0.70</td>\n",
       "      <td>0.00</td>\n",
       "      <td>1.9</td>\n",
       "      <td>0.076</td>\n",
       "      <td>11.0</td>\n",
       "      <td>34.0</td>\n",
       "      <td>0.9978</td>\n",
       "      <td>3.51</td>\n",
       "      <td>0.56</td>\n",
       "      <td>9.4</td>\n",
       "      <td>5</td>\n",
       "    </tr>\n",
       "    <tr>\n",
       "      <th>1</th>\n",
       "      <td>7.8</td>\n",
       "      <td>0.88</td>\n",
       "      <td>0.00</td>\n",
       "      <td>2.6</td>\n",
       "      <td>0.098</td>\n",
       "      <td>25.0</td>\n",
       "      <td>67.0</td>\n",
       "      <td>0.9968</td>\n",
       "      <td>3.20</td>\n",
       "      <td>0.68</td>\n",
       "      <td>9.8</td>\n",
       "      <td>5</td>\n",
       "    </tr>\n",
       "    <tr>\n",
       "      <th>2</th>\n",
       "      <td>7.8</td>\n",
       "      <td>0.76</td>\n",
       "      <td>0.04</td>\n",
       "      <td>2.3</td>\n",
       "      <td>0.092</td>\n",
       "      <td>15.0</td>\n",
       "      <td>54.0</td>\n",
       "      <td>0.9970</td>\n",
       "      <td>3.26</td>\n",
       "      <td>0.65</td>\n",
       "      <td>9.8</td>\n",
       "      <td>5</td>\n",
       "    </tr>\n",
       "    <tr>\n",
       "      <th>3</th>\n",
       "      <td>11.2</td>\n",
       "      <td>0.28</td>\n",
       "      <td>0.56</td>\n",
       "      <td>1.9</td>\n",
       "      <td>0.075</td>\n",
       "      <td>17.0</td>\n",
       "      <td>60.0</td>\n",
       "      <td>0.9980</td>\n",
       "      <td>3.16</td>\n",
       "      <td>0.58</td>\n",
       "      <td>9.8</td>\n",
       "      <td>6</td>\n",
       "    </tr>\n",
       "    <tr>\n",
       "      <th>4</th>\n",
       "      <td>7.4</td>\n",
       "      <td>0.70</td>\n",
       "      <td>0.00</td>\n",
       "      <td>1.9</td>\n",
       "      <td>0.076</td>\n",
       "      <td>11.0</td>\n",
       "      <td>34.0</td>\n",
       "      <td>0.9978</td>\n",
       "      <td>3.51</td>\n",
       "      <td>0.56</td>\n",
       "      <td>9.4</td>\n",
       "      <td>5</td>\n",
       "    </tr>\n",
       "  </tbody>\n",
       "</table>\n",
       "</div>"
      ],
      "text/plain": [
       "   fixed acidity  volatile acidity  citric acid  residual sugar  chlorides  \\\n",
       "0            7.4              0.70         0.00             1.9      0.076   \n",
       "1            7.8              0.88         0.00             2.6      0.098   \n",
       "2            7.8              0.76         0.04             2.3      0.092   \n",
       "3           11.2              0.28         0.56             1.9      0.075   \n",
       "4            7.4              0.70         0.00             1.9      0.076   \n",
       "\n",
       "   free sulfur dioxide  total sulfur dioxide  density    pH  sulphates  \\\n",
       "0                 11.0                  34.0   0.9978  3.51       0.56   \n",
       "1                 25.0                  67.0   0.9968  3.20       0.68   \n",
       "2                 15.0                  54.0   0.9970  3.26       0.65   \n",
       "3                 17.0                  60.0   0.9980  3.16       0.58   \n",
       "4                 11.0                  34.0   0.9978  3.51       0.56   \n",
       "\n",
       "   alcohol  quality  \n",
       "0      9.4        5  \n",
       "1      9.8        5  \n",
       "2      9.8        5  \n",
       "3      9.8        6  \n",
       "4      9.4        5  "
      ]
     },
     "execution_count": 3,
     "metadata": {},
     "output_type": "execute_result"
    }
   ],
   "source": [
    "wine.head()"
   ]
  },
  {
   "cell_type": "code",
   "execution_count": 4,
   "id": "serial-classification",
   "metadata": {},
   "outputs": [
    {
     "data": {
      "text/plain": [
       "(1599, 12)"
      ]
     },
     "execution_count": 4,
     "metadata": {},
     "output_type": "execute_result"
    }
   ],
   "source": [
    "wine.shape"
   ]
  },
  {
   "cell_type": "code",
   "execution_count": 5,
   "id": "representative-chile",
   "metadata": {
    "scrolled": true
   },
   "outputs": [
    {
     "name": "stdout",
     "output_type": "stream",
     "text": [
      "<class 'pandas.core.frame.DataFrame'>\n",
      "RangeIndex: 1599 entries, 0 to 1598\n",
      "Data columns (total 12 columns):\n",
      " #   Column                Non-Null Count  Dtype  \n",
      "---  ------                --------------  -----  \n",
      " 0   fixed acidity         1599 non-null   float64\n",
      " 1   volatile acidity      1599 non-null   float64\n",
      " 2   citric acid           1599 non-null   float64\n",
      " 3   residual sugar        1599 non-null   float64\n",
      " 4   chlorides             1599 non-null   float64\n",
      " 5   free sulfur dioxide   1599 non-null   float64\n",
      " 6   total sulfur dioxide  1599 non-null   float64\n",
      " 7   density               1599 non-null   float64\n",
      " 8   pH                    1599 non-null   float64\n",
      " 9   sulphates             1599 non-null   float64\n",
      " 10  alcohol               1599 non-null   float64\n",
      " 11  quality               1599 non-null   int64  \n",
      "dtypes: float64(11), int64(1)\n",
      "memory usage: 150.0 KB\n"
     ]
    }
   ],
   "source": [
    "wine.info()"
   ]
  },
  {
   "cell_type": "markdown",
   "id": "suspected-balance",
   "metadata": {},
   "source": [
    "As we can see we have only continious variable."
   ]
  },
  {
   "cell_type": "code",
   "execution_count": 6,
   "id": "approximate-detail",
   "metadata": {},
   "outputs": [
    {
     "data": {
      "text/html": [
       "<div>\n",
       "<style scoped>\n",
       "    .dataframe tbody tr th:only-of-type {\n",
       "        vertical-align: middle;\n",
       "    }\n",
       "\n",
       "    .dataframe tbody tr th {\n",
       "        vertical-align: top;\n",
       "    }\n",
       "\n",
       "    .dataframe thead th {\n",
       "        text-align: right;\n",
       "    }\n",
       "</style>\n",
       "<table border=\"1\" class=\"dataframe\">\n",
       "  <thead>\n",
       "    <tr style=\"text-align: right;\">\n",
       "      <th></th>\n",
       "      <th>fixed acidity</th>\n",
       "      <th>volatile acidity</th>\n",
       "      <th>citric acid</th>\n",
       "      <th>residual sugar</th>\n",
       "      <th>chlorides</th>\n",
       "      <th>free sulfur dioxide</th>\n",
       "      <th>total sulfur dioxide</th>\n",
       "      <th>density</th>\n",
       "      <th>pH</th>\n",
       "      <th>sulphates</th>\n",
       "      <th>alcohol</th>\n",
       "      <th>quality</th>\n",
       "    </tr>\n",
       "  </thead>\n",
       "  <tbody>\n",
       "    <tr>\n",
       "      <th>count</th>\n",
       "      <td>1599.000000</td>\n",
       "      <td>1599.000000</td>\n",
       "      <td>1599.000000</td>\n",
       "      <td>1599.000000</td>\n",
       "      <td>1599.000000</td>\n",
       "      <td>1599.000000</td>\n",
       "      <td>1599.000000</td>\n",
       "      <td>1599.000000</td>\n",
       "      <td>1599.000000</td>\n",
       "      <td>1599.000000</td>\n",
       "      <td>1599.000000</td>\n",
       "      <td>1599.000000</td>\n",
       "    </tr>\n",
       "    <tr>\n",
       "      <th>mean</th>\n",
       "      <td>8.319637</td>\n",
       "      <td>0.527821</td>\n",
       "      <td>0.270976</td>\n",
       "      <td>2.538806</td>\n",
       "      <td>0.087467</td>\n",
       "      <td>15.874922</td>\n",
       "      <td>46.467792</td>\n",
       "      <td>0.996747</td>\n",
       "      <td>3.311113</td>\n",
       "      <td>0.658149</td>\n",
       "      <td>10.422983</td>\n",
       "      <td>5.636023</td>\n",
       "    </tr>\n",
       "    <tr>\n",
       "      <th>std</th>\n",
       "      <td>1.741096</td>\n",
       "      <td>0.179060</td>\n",
       "      <td>0.194801</td>\n",
       "      <td>1.409928</td>\n",
       "      <td>0.047065</td>\n",
       "      <td>10.460157</td>\n",
       "      <td>32.895324</td>\n",
       "      <td>0.001887</td>\n",
       "      <td>0.154386</td>\n",
       "      <td>0.169507</td>\n",
       "      <td>1.065668</td>\n",
       "      <td>0.807569</td>\n",
       "    </tr>\n",
       "    <tr>\n",
       "      <th>min</th>\n",
       "      <td>4.600000</td>\n",
       "      <td>0.120000</td>\n",
       "      <td>0.000000</td>\n",
       "      <td>0.900000</td>\n",
       "      <td>0.012000</td>\n",
       "      <td>1.000000</td>\n",
       "      <td>6.000000</td>\n",
       "      <td>0.990070</td>\n",
       "      <td>2.740000</td>\n",
       "      <td>0.330000</td>\n",
       "      <td>8.400000</td>\n",
       "      <td>3.000000</td>\n",
       "    </tr>\n",
       "    <tr>\n",
       "      <th>25%</th>\n",
       "      <td>7.100000</td>\n",
       "      <td>0.390000</td>\n",
       "      <td>0.090000</td>\n",
       "      <td>1.900000</td>\n",
       "      <td>0.070000</td>\n",
       "      <td>7.000000</td>\n",
       "      <td>22.000000</td>\n",
       "      <td>0.995600</td>\n",
       "      <td>3.210000</td>\n",
       "      <td>0.550000</td>\n",
       "      <td>9.500000</td>\n",
       "      <td>5.000000</td>\n",
       "    </tr>\n",
       "    <tr>\n",
       "      <th>50%</th>\n",
       "      <td>7.900000</td>\n",
       "      <td>0.520000</td>\n",
       "      <td>0.260000</td>\n",
       "      <td>2.200000</td>\n",
       "      <td>0.079000</td>\n",
       "      <td>14.000000</td>\n",
       "      <td>38.000000</td>\n",
       "      <td>0.996750</td>\n",
       "      <td>3.310000</td>\n",
       "      <td>0.620000</td>\n",
       "      <td>10.200000</td>\n",
       "      <td>6.000000</td>\n",
       "    </tr>\n",
       "    <tr>\n",
       "      <th>75%</th>\n",
       "      <td>9.200000</td>\n",
       "      <td>0.640000</td>\n",
       "      <td>0.420000</td>\n",
       "      <td>2.600000</td>\n",
       "      <td>0.090000</td>\n",
       "      <td>21.000000</td>\n",
       "      <td>62.000000</td>\n",
       "      <td>0.997835</td>\n",
       "      <td>3.400000</td>\n",
       "      <td>0.730000</td>\n",
       "      <td>11.100000</td>\n",
       "      <td>6.000000</td>\n",
       "    </tr>\n",
       "    <tr>\n",
       "      <th>max</th>\n",
       "      <td>15.900000</td>\n",
       "      <td>1.580000</td>\n",
       "      <td>1.000000</td>\n",
       "      <td>15.500000</td>\n",
       "      <td>0.611000</td>\n",
       "      <td>72.000000</td>\n",
       "      <td>289.000000</td>\n",
       "      <td>1.003690</td>\n",
       "      <td>4.010000</td>\n",
       "      <td>2.000000</td>\n",
       "      <td>14.900000</td>\n",
       "      <td>8.000000</td>\n",
       "    </tr>\n",
       "  </tbody>\n",
       "</table>\n",
       "</div>"
      ],
      "text/plain": [
       "       fixed acidity  volatile acidity  citric acid  residual sugar  \\\n",
       "count    1599.000000       1599.000000  1599.000000     1599.000000   \n",
       "mean        8.319637          0.527821     0.270976        2.538806   \n",
       "std         1.741096          0.179060     0.194801        1.409928   \n",
       "min         4.600000          0.120000     0.000000        0.900000   \n",
       "25%         7.100000          0.390000     0.090000        1.900000   \n",
       "50%         7.900000          0.520000     0.260000        2.200000   \n",
       "75%         9.200000          0.640000     0.420000        2.600000   \n",
       "max        15.900000          1.580000     1.000000       15.500000   \n",
       "\n",
       "         chlorides  free sulfur dioxide  total sulfur dioxide      density  \\\n",
       "count  1599.000000          1599.000000           1599.000000  1599.000000   \n",
       "mean      0.087467            15.874922             46.467792     0.996747   \n",
       "std       0.047065            10.460157             32.895324     0.001887   \n",
       "min       0.012000             1.000000              6.000000     0.990070   \n",
       "25%       0.070000             7.000000             22.000000     0.995600   \n",
       "50%       0.079000            14.000000             38.000000     0.996750   \n",
       "75%       0.090000            21.000000             62.000000     0.997835   \n",
       "max       0.611000            72.000000            289.000000     1.003690   \n",
       "\n",
       "                pH    sulphates      alcohol      quality  \n",
       "count  1599.000000  1599.000000  1599.000000  1599.000000  \n",
       "mean      3.311113     0.658149    10.422983     5.636023  \n",
       "std       0.154386     0.169507     1.065668     0.807569  \n",
       "min       2.740000     0.330000     8.400000     3.000000  \n",
       "25%       3.210000     0.550000     9.500000     5.000000  \n",
       "50%       3.310000     0.620000    10.200000     6.000000  \n",
       "75%       3.400000     0.730000    11.100000     6.000000  \n",
       "max       4.010000     2.000000    14.900000     8.000000  "
      ]
     },
     "execution_count": 6,
     "metadata": {},
     "output_type": "execute_result"
    }
   ],
   "source": [
    "wine.describe()"
   ]
  },
  {
   "cell_type": "markdown",
   "id": "looking-depression",
   "metadata": {},
   "source": [
    "\n",
    "## Exploratory data analysis"
   ]
  },
  {
   "cell_type": "markdown",
   "id": "stable-horizon",
   "metadata": {},
   "source": [
    "Let's start by looking at our target quality"
   ]
  },
  {
   "cell_type": "code",
   "execution_count": 7,
   "id": "closing-litigation",
   "metadata": {},
   "outputs": [
    {
     "data": {
      "text/plain": [
       "5    681\n",
       "6    638\n",
       "7    199\n",
       "4     53\n",
       "8     18\n",
       "3     10\n",
       "Name: quality, dtype: int64"
      ]
     },
     "execution_count": 7,
     "metadata": {},
     "output_type": "execute_result"
    }
   ],
   "source": [
    "wine.quality.value_counts()"
   ]
  },
  {
   "cell_type": "code",
   "execution_count": 9,
   "id": "solid-mills",
   "metadata": {},
   "outputs": [
    {
     "data": {
      "text/plain": [
       "<AxesSubplot:xlabel='quality', ylabel='count'>"
      ]
     },
     "execution_count": 9,
     "metadata": {},
     "output_type": "execute_result"
    },
    {
     "data": {
      "image/png": "[encoded data removed]",
      "text/plain": [
       "<Figure size 432x288 with 1 Axes>"
      ]
     },
     "metadata": {
      "needs_background": "light"
     },
     "output_type": "display_data"
    }
   ],
   "source": [
    "sns.countplot(x=\"quality\", data=wine)"
   ]
  },
  {
   "cell_type": "markdown",
   "id": "short-addiction",
   "metadata": {},
   "source": [
    "**Analysing Fixed acidity**"
   ]
  },
  {
   "cell_type": "code",
   "execution_count": 11,
   "id": "disciplinary-spine",
   "metadata": {
    "scrolled": true
   },
   "outputs": [
    {
     "data": {
      "text/plain": [
       "<AxesSubplot:ylabel='Frequency'>"
      ]
     },
     "execution_count": 11,
     "metadata": {},
     "output_type": "execute_result"
    },
    {
     "data": {
      "image/png": "[encoded data removed]",
      "text/plain": [
       "<Figure size 432x288 with 1 Axes>"
      ]
     },
     "metadata": {
      "needs_background": "light"
     },
     "output_type": "display_data"
    }
   ],
   "source": [
    "wine['fixed acidity'].plot.hist(grid=True)\n"
   ]
  },
  {
   "cell_type": "code",
   "execution_count": 24,
   "id": "animal-thickness",
   "metadata": {},
   "outputs": [
    {
     "name": "stdout",
     "output_type": "stream",
     "text": [
      "Min value 4.6\n",
      "Max value 15.9\n"
     ]
    }
   ],
   "source": [
    "print('Min value',wine['fixed acidity'].min())\n",
    "print('Max value', wine['fixed acidity'].max())"
   ]
  },
  {
   "cell_type": "markdown",
   "id": "alpine-cigarette",
   "metadata": {},
   "source": [
    "As we can see the fixed have values between 4.6 and 15.9"
   ]
  },
  {
   "cell_type": "markdown",
   "id": "wooden-cheese",
   "metadata": {},
   "source": [
    "**Analysing Volatile acidity**"
   ]
  },
  {
   "cell_type": "code",
   "execution_count": 15,
   "id": "latter-facing",
   "metadata": {},
   "outputs": [
    {
     "data": {
      "text/plain": [
       "<AxesSubplot:ylabel='Frequency'>"
      ]
     },
     "execution_count": 15,
     "metadata": {},
     "output_type": "execute_result"
    },
    {
     "data": {
      "image/png": "[encoded data removed]",
      "text/plain": [
       "<Figure size 432x288 with 1 Axes>"
      ]
     },
     "metadata": {
      "needs_background": "light"
     },
     "output_type": "display_data"
    }
   ],
   "source": [
    "wine['volatile acidity'].plot.hist(grid=True)\n"
   ]
  },
  {
   "cell_type": "code",
   "execution_count": 25,
   "id": "material-congo",
   "metadata": {},
   "outputs": [
    {
     "name": "stdout",
     "output_type": "stream",
     "text": [
      "Min value 0.12\n",
      "Max value 1.58\n"
     ]
    }
   ],
   "source": [
    "print('Min value',wine['volatile acidity'].min())\n",
    "print('Max value', wine['volatile acidity'].max())"
   ]
  },
  {
   "cell_type": "markdown",
   "id": "naval-nicaragua",
   "metadata": {},
   "source": [
    "As we can see the volatile acidity have values between 0.12 and 1.58"
   ]
  },
  {
   "cell_type": "markdown",
   "id": "regulation-washington",
   "metadata": {},
   "source": [
    "**Analysing Citric acidity**"
   ]
  },
  {
   "cell_type": "code",
   "execution_count": 26,
   "id": "hired-relief",
   "metadata": {},
   "outputs": [
    {
     "data": {
      "text/plain": [
       "<AxesSubplot:ylabel='Frequency'>"
      ]
     },
     "execution_count": 26,
     "metadata": {},
     "output_type": "execute_result"
    },
    {
     "data": {
      "image/png": "[encoded data removed]",
      "text/plain": [
       "<Figure size 432x288 with 1 Axes>"
      ]
     },
     "metadata": {
      "needs_background": "light"
     },
     "output_type": "display_data"
    }
   ],
   "source": [
    "wine['citric acid'].plot.hist(grid=True)\n"
   ]
  },
  {
   "cell_type": "code",
   "execution_count": 27,
   "id": "suburban-sarah",
   "metadata": {},
   "outputs": [
    {
     "name": "stdout",
     "output_type": "stream",
     "text": [
      "Min value 0.0\n",
      "Max value 1.0\n"
     ]
    }
   ],
   "source": [
    "print('Min value',wine['citric acid'].min())\n",
    "print('Max value', wine['citric acid'].max())"
   ]
  },
  {
   "cell_type": "markdown",
   "id": "blocked-relation",
   "metadata": {},
   "source": [
    "As we can see the citric acidity have values between 0 and 1"
   ]
  },
  {
   "cell_type": "markdown",
   "id": "abstract-helping",
   "metadata": {},
   "source": [
    "**Analysing residual sugar**"
   ]
  },
  {
   "cell_type": "code",
   "execution_count": 30,
   "id": "referenced-newspaper",
   "metadata": {},
   "outputs": [
    {
     "data": {
      "text/plain": [
       "<AxesSubplot:ylabel='Frequency'>"
      ]
     },
     "execution_count": 30,
     "metadata": {},
     "output_type": "execute_result"
    },
    {
     "data": {
      "image/png": "[encoded data removed]",
      "text/plain": [
       "<Figure size 432x288 with 1 Axes>"
      ]
     },
     "metadata": {
      "needs_background": "light"
     },
     "output_type": "display_data"
    }
   ],
   "source": [
    "wine['residual sugar'].plot.hist(grid=True)\n"
   ]
  },
  {
   "cell_type": "code",
   "execution_count": 31,
   "id": "virtual-comparison",
   "metadata": {},
   "outputs": [
    {
     "name": "stdout",
     "output_type": "stream",
     "text": [
      "Min value 0.9\n",
      "Max value 15.5\n"
     ]
    }
   ],
   "source": [
    "print('Min value',wine['residual sugar'].min())\n",
    "print('Max value',wine['residual sugar'].max())"
   ]
  },
  {
   "cell_type": "markdown",
   "id": "processed-supply",
   "metadata": {},
   "source": [
    "As we can see the residual sugar have values between 0.9 and 15.5\n",
    "\n"
   ]
  },
  {
   "cell_type": "markdown",
   "id": "further-excitement",
   "metadata": {},
   "source": [
    "**Analysing chlorides**"
   ]
  },
  {
   "cell_type": "code",
   "execution_count": 34,
   "id": "based-bankruptcy",
   "metadata": {},
   "outputs": [
    {
     "data": {
      "text/plain": [
       "<AxesSubplot:ylabel='Frequency'>"
      ]
     },
     "execution_count": 34,
     "metadata": {},
     "output_type": "execute_result"
    },
    {
     "data": {
      "image/png": "[encoded data removed]",
      "text/plain": [
       "<Figure size 432x288 with 1 Axes>"
      ]
     },
     "metadata": {
      "needs_background": "light"
     },
     "output_type": "display_data"
    }
   ],
   "source": [
    "wine['chlorides'].plot.hist(grid=True)\n"
   ]
  },
  {
   "cell_type": "code",
   "execution_count": 35,
   "id": "changing-window",
   "metadata": {},
   "outputs": [
    {
     "name": "stdout",
     "output_type": "stream",
     "text": [
      "Min value 0.012\n",
      "Max value 0.611\n"
     ]
    }
   ],
   "source": [
    "print('Min value',wine['chlorides'].min())\n",
    "print('Max value',wine['chlorides'].max())"
   ]
  },
  {
   "cell_type": "markdown",
   "id": "employed-prevention",
   "metadata": {},
   "source": [
    "As we can see the chlorides have values between 0.012 and 0.611\n"
   ]
  },
  {
   "cell_type": "markdown",
   "id": "based-hybrid",
   "metadata": {},
   "source": [
    "**Analysing free sulfur dioxide**"
   ]
  },
  {
   "cell_type": "code",
   "execution_count": 37,
   "id": "vertical-collective",
   "metadata": {},
   "outputs": [
    {
     "data": {
      "text/plain": [
       "<AxesSubplot:ylabel='Frequency'>"
      ]
     },
     "execution_count": 37,
     "metadata": {},
     "output_type": "execute_result"
    },
    {
     "data": {
      "image/png": "[encoded data removed]",
      "text/plain": [
       "<Figure size 432x288 with 1 Axes>"
      ]
     },
     "metadata": {
      "needs_background": "light"
     },
     "output_type": "display_data"
    }
   ],
   "source": [
    "wine['free sulfur dioxide'].plot.hist(grid=True)"
   ]
  },
  {
   "cell_type": "code",
   "execution_count": 38,
   "id": "infinite-counter",
   "metadata": {},
   "outputs": [
    {
     "name": "stdout",
     "output_type": "stream",
     "text": [
      "Min value 1.0\n",
      "Max value 72.0\n"
     ]
    }
   ],
   "source": [
    "print('Min value',wine['free sulfur dioxide'].min())\n",
    "print('Max value',wine['free sulfur dioxide'].max())"
   ]
  },
  {
   "cell_type": "markdown",
   "id": "pleased-writer",
   "metadata": {},
   "source": [
    "As we can see the free sulfur dioxide have values between 1 and 72\n",
    "\n"
   ]
  },
  {
   "cell_type": "markdown",
   "id": "fourth-upper",
   "metadata": {},
   "source": [
    "**Analysing total sulfur dioxide**"
   ]
  },
  {
   "cell_type": "code",
   "execution_count": 40,
   "id": "smaller-audit",
   "metadata": {},
   "outputs": [
    {
     "data": {
      "text/plain": [
       "<AxesSubplot:ylabel='Frequency'>"
      ]
     },
     "execution_count": 40,
     "metadata": {},
     "output_type": "execute_result"
    },
    {
     "data": {
      "image/png": "[encoded data removed]",
      "text/plain": [
       "<Figure size 432x288 with 1 Axes>"
      ]
     },
     "metadata": {
      "needs_background": "light"
     },
     "output_type": "display_data"
    }
   ],
   "source": [
    "wine['total sulfur dioxide'].plot.hist(grid=True)"
   ]
  },
  {
   "cell_type": "code",
   "execution_count": 41,
   "id": "likely-royalty",
   "metadata": {},
   "outputs": [
    {
     "name": "stdout",
     "output_type": "stream",
     "text": [
      "Min value 6.0\n",
      "Max value 289.0\n"
     ]
    }
   ],
   "source": [
    "print('Min value',wine['total sulfur dioxide'].min())\n",
    "print('Max value',wine['total sulfur dioxide'].max())"
   ]
  },
  {
   "cell_type": "markdown",
   "id": "neural-cement",
   "metadata": {},
   "source": [
    "As we can see the total sulfur dioxide have values betwee6 1 and 289. \n",
    "We can deduce that we have certainly outliers here"
   ]
  },
  {
   "cell_type": "markdown",
   "id": "outside-heading",
   "metadata": {},
   "source": [
    "**Analysing density**"
   ]
  },
  {
   "cell_type": "code",
   "execution_count": 43,
   "id": "enormous-heaven",
   "metadata": {},
   "outputs": [
    {
     "data": {
      "text/plain": [
       "<AxesSubplot:ylabel='Frequency'>"
      ]
     },
     "execution_count": 43,
     "metadata": {},
     "output_type": "execute_result"
    },
    {
     "data": {
      "image/png": "[encoded data removed]",
      "text/plain": [
       "<Figure size 432x288 with 1 Axes>"
      ]
     },
     "metadata": {
      "needs_background": "light"
     },
     "output_type": "display_data"
    }
   ],
   "source": [
    "wine['density'].plot.hist(grid=True)"
   ]
  },
  {
   "cell_type": "code",
   "execution_count": 44,
   "id": "handed-contractor",
   "metadata": {},
   "outputs": [
    {
     "name": "stdout",
     "output_type": "stream",
     "text": [
      "Min value 0.99007\n",
      "Max value 1.00369\n"
     ]
    }
   ],
   "source": [
    "print('Min value',wine['density'].min())\n",
    "print('Max value',wine['density'].max())"
   ]
  },
  {
   "cell_type": "markdown",
   "id": "unique-sphere",
   "metadata": {},
   "source": [
    "As we can see the density have values betwee6 0.99007 and 1.00369. \n",
    "\n"
   ]
  },
  {
   "cell_type": "markdown",
   "id": "assured-seeking",
   "metadata": {},
   "source": [
    "**Analysing pH**"
   ]
  },
  {
   "cell_type": "code",
   "execution_count": 47,
   "id": "plain-press",
   "metadata": {},
   "outputs": [
    {
     "data": {
      "text/plain": [
       "<AxesSubplot:ylabel='Frequency'>"
      ]
     },
     "execution_count": 47,
     "metadata": {},
     "output_type": "execute_result"
    },
    {
     "data": {
      "image/png": "[encoded data removed]",
      "text/plain": [
       "<Figure size 432x288 with 1 Axes>"
      ]
     },
     "metadata": {
      "needs_background": "light"
     },
     "output_type": "display_data"
    }
   ],
   "source": [
    "wine['pH'].plot.hist(grid=True)"
   ]
  },
  {
   "cell_type": "code",
   "execution_count": 48,
   "id": "alien-belly",
   "metadata": {},
   "outputs": [
    {
     "name": "stdout",
     "output_type": "stream",
     "text": [
      "Min value 2.74\n",
      "Max value 4.01\n"
     ]
    }
   ],
   "source": [
    "print('Min value',wine['pH'].min())\n",
    "print('Max value',wine['pH'].max())"
   ]
  },
  {
   "cell_type": "markdown",
   "id": "prospective-parks",
   "metadata": {},
   "source": [
    "As we can see the ph have values betwee6 2.74 and 4.01. \n",
    "\n"
   ]
  },
  {
   "cell_type": "markdown",
   "id": "metric-briefs",
   "metadata": {},
   "source": [
    "**Analysing sulphates**"
   ]
  },
  {
   "cell_type": "code",
   "execution_count": 50,
   "id": "owned-supervisor",
   "metadata": {},
   "outputs": [
    {
     "data": {
      "text/plain": [
       "<AxesSubplot:ylabel='Frequency'>"
      ]
     },
     "execution_count": 50,
     "metadata": {},
     "output_type": "execute_result"
    },
    {
     "data": {
      "image/png": "[encoded data removed]",
      "text/plain": [
       "<Figure size 432x288 with 1 Axes>"
      ]
     },
     "metadata": {
      "needs_background": "light"
     },
     "output_type": "display_data"
    }
   ],
   "source": [
    "wine['sulphates'].plot.hist(grid=True)"
   ]
  },
  {
   "cell_type": "code",
   "execution_count": 51,
   "id": "basic-future",
   "metadata": {},
   "outputs": [
    {
     "name": "stdout",
     "output_type": "stream",
     "text": [
      "Min value 0.33\n",
      "Max value 2.0\n"
     ]
    }
   ],
   "source": [
    "print('Min value',wine['sulphates'].min())\n",
    "print('Max value',wine['sulphates'].max())"
   ]
  },
  {
   "cell_type": "markdown",
   "id": "invisible-marks",
   "metadata": {},
   "source": [
    "As we can see the sulfates have values betwee6 0.33 and 2.0. \n",
    "\n",
    "\n"
   ]
  },
  {
   "cell_type": "markdown",
   "id": "subtle-funds",
   "metadata": {},
   "source": [
    "**Analysing alcohol**"
   ]
  },
  {
   "cell_type": "code",
   "execution_count": 53,
   "id": "minor-oriental",
   "metadata": {},
   "outputs": [
    {
     "data": {
      "text/plain": [
       "<AxesSubplot:ylabel='Frequency'>"
      ]
     },
     "execution_count": 53,
     "metadata": {},
     "output_type": "execute_result"
    },
    {
     "data": {
      "image/png": "[encoded data removed]",
      "text/plain": [
       "<Figure size 432x288 with 1 Axes>"
      ]
     },
     "metadata": {
      "needs_background": "light"
     },
     "output_type": "display_data"
    }
   ],
   "source": [
    "wine['alcohol'].plot.hist(grid=True)"
   ]
  },
  {
   "cell_type": "code",
   "execution_count": 54,
   "id": "civic-cleanup",
   "metadata": {},
   "outputs": [
    {
     "name": "stdout",
     "output_type": "stream",
     "text": [
      "Min value 8.4\n",
      "Max value 14.9\n"
     ]
    }
   ],
   "source": [
    "print('Min value',wine['alcohol'].min())\n",
    "print('Max value',wine['alcohol'].max())"
   ]
  },
  {
   "cell_type": "markdown",
   "id": "burning-tucson",
   "metadata": {},
   "source": [
    "As we can see the alcohol have values betwee6 8.4 and 14.9. \n"
   ]
  },
  {
   "cell_type": "markdown",
   "id": "biblical-apollo",
   "metadata": {},
   "source": [
    "All the max and min values will help us when building the application ! "
   ]
  },
  {
   "cell_type": "markdown",
   "id": "solved-kuwait",
   "metadata": {},
   "source": [
    "**Let's havae a look at density and alcohol**"
   ]
  },
  {
   "cell_type": "code",
   "execution_count": 55,
   "id": "crude-burst",
   "metadata": {},
   "outputs": [
    {
     "data": {
      "text/plain": [
       "<AxesSubplot:xlabel='density', ylabel='alcohol'>"
      ]
     },
     "execution_count": 55,
     "metadata": {},
     "output_type": "execute_result"
    },
    {
     "data": {
      "image/png": "[encoded data removed]",
      "text/plain": [
       "<Figure size 432x288 with 1 Axes>"
      ]
     },
     "metadata": {
      "needs_background": "light"
     },
     "output_type": "display_data"
    }
   ],
   "source": [
    "sns.scatterplot(x='density', y='alcohol', data=wine)"
   ]
  },
  {
   "cell_type": "markdown",
   "id": "applicable-vinyl",
   "metadata": {},
   "source": [
    "**Let's havae a look at pH and alcohol**"
   ]
  },
  {
   "cell_type": "code",
   "execution_count": 56,
   "id": "extreme-yesterday",
   "metadata": {},
   "outputs": [
    {
     "data": {
      "text/plain": [
       "<AxesSubplot:xlabel='pH', ylabel='alcohol'>"
      ]
     },
     "execution_count": 56,
     "metadata": {},
     "output_type": "execute_result"
    },
    {
     "data": {
      "image/png": "[encoded data removed]",
      "text/plain": [
       "<Figure size 432x288 with 1 Axes>"
      ]
     },
     "metadata": {
      "needs_background": "light"
     },
     "output_type": "display_data"
    }
   ],
   "source": [
    "sns.scatterplot(x='pH', y='alcohol', data=wine)"
   ]
  },
  {
   "cell_type": "code",
   "execution_count": 59,
   "id": "monthly-wilderness",
   "metadata": {},
   "outputs": [
    {
     "data": {
      "text/plain": [
       "<AxesSubplot:xlabel='density'>"
      ]
     },
     "execution_count": 59,
     "metadata": {},
     "output_type": "execute_result"
    },
    {
     "data": {
      "image/png": "[encoded data removed]",
      "text/plain": [
       "<Figure size 432x288 with 1 Axes>"
      ]
     },
     "metadata": {
      "needs_background": "light"
     },
     "output_type": "display_data"
    }
   ],
   "source": [
    "sns.boxplot(data=wine, x='density')"
   ]
  },
  {
   "cell_type": "markdown",
   "id": "ordered-foster",
   "metadata": {},
   "source": [
    "Most value have a density between 0.996 and 0.998"
   ]
  },
  {
   "cell_type": "markdown",
   "id": "pending-career",
   "metadata": {},
   "source": [
    "### Checking for Missing Values"
   ]
  },
  {
   "cell_type": "markdown",
   "id": "premier-nightmare",
   "metadata": {},
   "source": [
    "### Checking for Outliers\n",
    "\n"
   ]
  },
  {
   "cell_type": "code",
   "execution_count": 72,
   "id": "funky-peninsula",
   "metadata": {
    "scrolled": true
   },
   "outputs": [
    {
     "data": {
      "text/plain": [
       "fixed acidity           0\n",
       "volatile acidity        0\n",
       "citric acid             0\n",
       "residual sugar          0\n",
       "chlorides               0\n",
       "free sulfur dioxide     0\n",
       "total sulfur dioxide    0\n",
       "density                 0\n",
       "pH                      0\n",
       "sulphates               0\n",
       "alcohol                 0\n",
       "quality                 0\n",
       "dtype: int64"
      ]
     },
     "execution_count": 72,
     "metadata": {},
     "output_type": "execute_result"
    }
   ],
   "source": [
    "wine.isnull().sum()"
   ]
  },
  {
   "cell_type": "markdown",
   "id": "stretch-fashion",
   "metadata": {},
   "source": [
    "We have any missing values"
   ]
  },
  {
   "cell_type": "markdown",
   "id": "aerial-stephen",
   "metadata": {},
   "source": [
    "## Let's try to understand how to have a quality wine"
   ]
  },
  {
   "cell_type": "markdown",
   "id": "saved-observation",
   "metadata": {},
   "source": [
    "Here we see that fixed acidity does not give any specification to classify the quality.\n",
    "\n"
   ]
  },
  {
   "cell_type": "code",
   "execution_count": 65,
   "id": "administrative-image",
   "metadata": {},
   "outputs": [
    {
     "data": {
      "text/plain": [
       "<AxesSubplot:xlabel='quality', ylabel='fixed acidity'>"
      ]
     },
     "execution_count": 65,
     "metadata": {},
     "output_type": "execute_result"
    },
    {
     "data": {
      "image/png": "[encoded data removed]",
      "text/plain": [
       "<Figure size 720x432 with 1 Axes>"
      ]
     },
     "metadata": {
      "needs_background": "light"
     },
     "output_type": "display_data"
    }
   ],
   "source": [
    "fig = plt.figure(figsize = (10,6))\n",
    "sns.barplot(x = 'quality', y = 'fixed acidity', data = wine)"
   ]
  },
  {
   "cell_type": "markdown",
   "id": "computational-artist",
   "metadata": {},
   "source": [
    "Here we see that its quite a downing trend in the volatile acidity as we go higher the quality "
   ]
  },
  {
   "cell_type": "code",
   "execution_count": 60,
   "id": "lonely-bachelor",
   "metadata": {},
   "outputs": [
    {
     "data": {
      "text/plain": [
       "<AxesSubplot:xlabel='quality', ylabel='volatile acidity'>"
      ]
     },
     "execution_count": 60,
     "metadata": {},
     "output_type": "execute_result"
    },
    {
     "data": {
      "image/png": "[encoded data removed]",
      "text/plain": [
       "<Figure size 720x432 with 1 Axes>"
      ]
     },
     "metadata": {
      "needs_background": "light"
     },
     "output_type": "display_data"
    }
   ],
   "source": [
    "fig = plt.figure(figsize = (10,6))\n",
    "sns.barplot(x = 'quality', y = 'volatile acidity', data = wine)"
   ]
  },
  {
   "cell_type": "code",
   "execution_count": 66,
   "id": "falling-region",
   "metadata": {
    "scrolled": false
   },
   "outputs": [
    {
     "data": {
      "text/plain": [
       "<AxesSubplot:xlabel='quality', ylabel='residual sugar'>"
      ]
     },
     "execution_count": 66,
     "metadata": {},
     "output_type": "execute_result"
    },
    {
     "data": {
      "image/png": "[encoded data removed]",
      "text/plain": [
       "<Figure size 720x432 with 1 Axes>"
      ]
     },
     "metadata": {
      "needs_background": "light"
     },
     "output_type": "display_data"
    }
   ],
   "source": [
    "fig = plt.figure(figsize = (10,6))\n",
    "sns.barplot(x = 'quality', y = 'residual sugar', data = wine)"
   ]
  },
  {
   "cell_type": "code",
   "execution_count": 67,
   "id": "distinguished-pixel",
   "metadata": {},
   "outputs": [
    {
     "data": {
      "text/plain": [
       "<AxesSubplot:xlabel='quality', ylabel='free sulfur dioxide'>"
      ]
     },
     "execution_count": 67,
     "metadata": {},
     "output_type": "execute_result"
    },
    {
     "data": {
      "image/png": "[encoded data removed]",
      "text/plain": [
       "<Figure size 720x432 with 1 Axes>"
      ]
     },
     "metadata": {
      "needs_background": "light"
     },
     "output_type": "display_data"
    }
   ],
   "source": [
    "fig = plt.figure(figsize = (10,6))\n",
    "sns.barplot(x = 'quality', y = 'free sulfur dioxide', data = wine)"
   ]
  },
  {
   "cell_type": "markdown",
   "id": "effective-enemy",
   "metadata": {},
   "source": [
    "Composition of citric acid go higher as we go higher in the quality of the wine\n"
   ]
  },
  {
   "cell_type": "code",
   "execution_count": 61,
   "id": "employed-failure",
   "metadata": {},
   "outputs": [
    {
     "data": {
      "text/plain": [
       "<AxesSubplot:xlabel='quality', ylabel='citric acid'>"
      ]
     },
     "execution_count": 61,
     "metadata": {},
     "output_type": "execute_result"
    },
    {
     "data": {
      "image/png": "[encoded data removed]",
      "text/plain": [
       "<Figure size 720x432 with 1 Axes>"
      ]
     },
     "metadata": {
      "needs_background": "light"
     },
     "output_type": "display_data"
    }
   ],
   "source": [
    "fig = plt.figure(figsize = (10,6))\n",
    "sns.barplot(x = 'quality', y = 'citric acid', data = wine)"
   ]
  },
  {
   "cell_type": "markdown",
   "id": "apparent-heavy",
   "metadata": {},
   "source": [
    "Composition of chloride also go down as we go higher in the quality of the wine\n",
    "\n"
   ]
  },
  {
   "cell_type": "code",
   "execution_count": 62,
   "id": "chubby-safety",
   "metadata": {},
   "outputs": [
    {
     "data": {
      "text/plain": [
       "<AxesSubplot:xlabel='quality', ylabel='chlorides'>"
      ]
     },
     "execution_count": 62,
     "metadata": {},
     "output_type": "execute_result"
    },
    {
     "data": {
      "image/png": "[encoded data removed]",
      "text/plain": [
       "<Figure size 720x432 with 1 Axes>"
      ]
     },
     "metadata": {
      "needs_background": "light"
     },
     "output_type": "display_data"
    }
   ],
   "source": [
    "fig = plt.figure(figsize = (10,6))\n",
    "sns.barplot(x = 'quality', y = 'chlorides', data = wine)"
   ]
  },
  {
   "cell_type": "markdown",
   "id": "electrical-robin",
   "metadata": {},
   "source": [
    "Sulphates level goes higher with the quality of wine\n"
   ]
  },
  {
   "cell_type": "code",
   "execution_count": 63,
   "id": "fantastic-underwear",
   "metadata": {},
   "outputs": [
    {
     "data": {
      "text/plain": [
       "<AxesSubplot:xlabel='quality', ylabel='sulphates'>"
      ]
     },
     "execution_count": 63,
     "metadata": {},
     "output_type": "execute_result"
    },
    {
     "data": {
      "image/png": "[encoded data removed]",
      "text/plain": [
       "<Figure size 720x432 with 1 Axes>"
      ]
     },
     "metadata": {
      "needs_background": "light"
     },
     "output_type": "display_data"
    }
   ],
   "source": [
    "fig = plt.figure(figsize = (10,6))\n",
    "sns.barplot(x = 'quality', y = 'sulphates', data = wine)"
   ]
  },
  {
   "cell_type": "markdown",
   "id": "median-headquarters",
   "metadata": {},
   "source": [
    "Alcohol level also goes higher as te quality of wine increases\n"
   ]
  },
  {
   "cell_type": "code",
   "execution_count": 64,
   "id": "stock-optimum",
   "metadata": {
    "scrolled": false
   },
   "outputs": [
    {
     "data": {
      "text/plain": [
       "<AxesSubplot:xlabel='quality', ylabel='alcohol'>"
      ]
     },
     "execution_count": 64,
     "metadata": {},
     "output_type": "execute_result"
    },
    {
     "data": {
      "image/png": "[encoded data removed]",
      "text/plain": [
       "<Figure size 720x432 with 1 Axes>"
      ]
     },
     "metadata": {
      "needs_background": "light"
     },
     "output_type": "display_data"
    }
   ],
   "source": [
    "fig = plt.figure(figsize = (10,6))\n",
    "sns.barplot(x = 'quality', y = 'alcohol', data = wine)"
   ]
  },
  {
   "cell_type": "markdown",
   "id": "restricted-determination",
   "metadata": {},
   "source": [
    "Quality level also goes higher as te PH of wine decreases"
   ]
  },
  {
   "cell_type": "code",
   "execution_count": 68,
   "id": "ranking-literature",
   "metadata": {},
   "outputs": [
    {
     "data": {
      "text/plain": [
       "<AxesSubplot:xlabel='quality', ylabel='pH'>"
      ]
     },
     "execution_count": 68,
     "metadata": {},
     "output_type": "execute_result"
    },
    {
     "data": {
      "image/png": "[encoded data removed]",
      "text/plain": [
       "<Figure size 720x432 with 1 Axes>"
      ]
     },
     "metadata": {
      "needs_background": "light"
     },
     "output_type": "display_data"
    }
   ],
   "source": [
    "fig = plt.figure(figsize = (10,6))\n",
    "sns.barplot(x = 'quality', y = 'pH', data = wine)"
   ]
  },
  {
   "cell_type": "markdown",
   "id": "contained-waters",
   "metadata": {},
   "source": [
    "#### From the above visualisation we observe that:\n",
    "\n",
    "- Features fixed acidity and residual sugar might not give any specification to classify/predict the quality.\n",
    "Quality increases with : \n",
    "- decrease in volatile acidity.\n",
    "- increase in citric acid.\n",
    "- decrease in chlorides.\n",
    "- decrease in pH.\n",
    "- increase in sulphates.\n",
    "- increase in alcohol.\n",
    "- Free sulfur dioxide alone will not be able to predict the quality.\n",
    "- Total sulfur dioxide alone will not be able to predict the quality."
   ]
  },
  {
   "cell_type": "markdown",
   "id": "retired-fundamental",
   "metadata": {},
   "source": [
    "### Correlation"
   ]
  },
  {
   "cell_type": "code",
   "execution_count": 73,
   "id": "greenhouse-chancellor",
   "metadata": {},
   "outputs": [
    {
     "data": {
      "image/png": "[encoded data removed]",
      "text/plain": [
       "<Figure size 720x720 with 2 Axes>"
      ]
     },
     "metadata": {
      "needs_background": "light"
     },
     "output_type": "display_data"
    }
   ],
   "source": [
    "plt.figure(figsize=(10, 10))\n",
    "sns.heatmap(wine.corr(method='pearson'), annot=True, square=True)\n",
    "plt.show()"
   ]
  },
  {
   "cell_type": "code",
   "execution_count": 81,
   "id": "brilliant-median",
   "metadata": {},
   "outputs": [
    {
     "name": "stdout",
     "output_type": "stream",
     "text": [
      "Correlation of different features of our dataset with quality:\n",
      "fixed acidity : 0.1241\n",
      "volatile acidity : -0.3906\n",
      "citric acid : 0.2264\n",
      "residual sugar : 0.0137\n",
      "chlorides : -0.1289\n",
      "free sulfur dioxide : -0.0507\n",
      "total sulfur dioxide : -0.1851\n",
      "density : -0.1749\n",
      "pH : -0.0577\n",
      "sulphates : 0.2514\n",
      "alcohol : 0.4762\n",
      "quality : 1.0000\n"
     ]
    }
   ],
   "source": [
    "print('Correlation of different features of our dataset with quality:')\n",
    "for i in wine.columns:\n",
    "  corr, _ = pearsonr(wine[i], wine['quality'])\n",
    "  print('%s : %.4f' %(i,corr))"
   ]
  },
  {
   "cell_type": "code",
   "execution_count": 82,
   "id": "everyday-acceptance",
   "metadata": {},
   "outputs": [
    {
     "name": "stdout",
     "output_type": "stream",
     "text": [
      "Another view of correlations among features:\n",
      "\n"
     ]
    },
    {
     "data": {
      "text/html": [
       "<style  type=\"text/css\" >\n",
       "#T_9f715_row0_col0,#T_9f715_row1_col1,#T_9f715_row2_col2,#T_9f715_row3_col3,#T_9f715_row4_col4,#T_9f715_row5_col5,#T_9f715_row6_col6,#T_9f715_row7_col7,#T_9f715_row8_col8,#T_9f715_row9_col9,#T_9f715_row10_col10,#T_9f715_row11_col11{\n",
       "            background-color:  #b40426;\n",
       "            color:  #f1f1f1;\n",
       "        }#T_9f715_row0_col1,#T_9f715_row4_col11,#T_9f715_row9_col1{\n",
       "            background-color:  #779af7;\n",
       "            color:  #000000;\n",
       "        }#T_9f715_row0_col2{\n",
       "            background-color:  #f08a6c;\n",
       "            color:  #000000;\n",
       "        }#T_9f715_row0_col3,#T_9f715_row4_col10{\n",
       "            background-color:  #7699f6;\n",
       "            color:  #000000;\n",
       "        }#T_9f715_row0_col4{\n",
       "            background-color:  #98b9ff;\n",
       "            color:  #000000;\n",
       "        }#T_9f715_row0_col5,#T_9f715_row0_col8,#T_9f715_row1_col2,#T_9f715_row1_col9,#T_9f715_row1_col11,#T_9f715_row2_col1,#T_9f715_row7_col10,#T_9f715_row8_col0,#T_9f715_row8_col3,#T_9f715_row8_col4,#T_9f715_row10_col6,#T_9f715_row10_col7{\n",
       "            background-color:  #3b4cc0;\n",
       "            color:  #f1f1f1;\n",
       "        }#T_9f715_row0_col6{\n",
       "            background-color:  #516ddb;\n",
       "            color:  #000000;\n",
       "        }#T_9f715_row0_col7{\n",
       "            background-color:  #f18d6f;\n",
       "            color:  #000000;\n",
       "        }#T_9f715_row0_col9,#T_9f715_row3_col8{\n",
       "            background-color:  #b1cbfc;\n",
       "            color:  #000000;\n",
       "        }#T_9f715_row0_col10,#T_9f715_row3_col11{\n",
       "            background-color:  #9bbcff;\n",
       "            color:  #000000;\n",
       "        }#T_9f715_row0_col11,#T_9f715_row2_col4,#T_9f715_row7_col1,#T_9f715_row7_col4,#T_9f715_row10_col0{\n",
       "            background-color:  #b6cefa;\n",
       "            color:  #000000;\n",
       "        }#T_9f715_row1_col0,#T_9f715_row3_col4,#T_9f715_row5_col3{\n",
       "            background-color:  #8db0fe;\n",
       "            color:  #000000;\n",
       "        }#T_9f715_row1_col3,#T_9f715_row2_col5{\n",
       "            background-color:  #536edd;\n",
       "            color:  #000000;\n",
       "        }#T_9f715_row1_col4{\n",
       "            background-color:  #90b2fe;\n",
       "            color:  #000000;\n",
       "        }#T_9f715_row1_col5{\n",
       "            background-color:  #6180e9;\n",
       "            color:  #000000;\n",
       "        }#T_9f715_row1_col6{\n",
       "            background-color:  #86a9fc;\n",
       "            color:  #000000;\n",
       "        }#T_9f715_row1_col7{\n",
       "            background-color:  #aec9fc;\n",
       "            color:  #000000;\n",
       "        }#T_9f715_row1_col8{\n",
       "            background-color:  #e8d6cc;\n",
       "            color:  #000000;\n",
       "        }#T_9f715_row1_col10{\n",
       "            background-color:  #7a9df8;\n",
       "            color:  #000000;\n",
       "        }#T_9f715_row2_col0{\n",
       "            background-color:  #ec8165;\n",
       "            color:  #000000;\n",
       "        }#T_9f715_row2_col3,#T_9f715_row3_col9,#T_9f715_row5_col4,#T_9f715_row11_col7{\n",
       "            background-color:  #80a3fa;\n",
       "            color:  #000000;\n",
       "        }#T_9f715_row2_col6,#T_9f715_row7_col8{\n",
       "            background-color:  #7b9ff9;\n",
       "            color:  #000000;\n",
       "        }#T_9f715_row2_col7{\n",
       "            background-color:  #eed0c0;\n",
       "            color:  #000000;\n",
       "        }#T_9f715_row2_col8,#T_9f715_row9_col3{\n",
       "            background-color:  #5470de;\n",
       "            color:  #000000;\n",
       "        }#T_9f715_row2_col9{\n",
       "            background-color:  #d1dae9;\n",
       "            color:  #000000;\n",
       "        }#T_9f715_row2_col10,#T_9f715_row6_col1,#T_9f715_row7_col3{\n",
       "            background-color:  #c1d4f4;\n",
       "            color:  #000000;\n",
       "        }#T_9f715_row2_col11{\n",
       "            background-color:  #cdd9ec;\n",
       "            color:  #000000;\n",
       "        }#T_9f715_row3_col0{\n",
       "            background-color:  #d6dce4;\n",
       "            color:  #000000;\n",
       "        }#T_9f715_row3_col1{\n",
       "            background-color:  #b2ccfb;\n",
       "            color:  #000000;\n",
       "        }#T_9f715_row3_col2,#T_9f715_row5_col8{\n",
       "            background-color:  #cedaeb;\n",
       "            color:  #000000;\n",
       "        }#T_9f715_row3_col5{\n",
       "            background-color:  #9dbdff;\n",
       "            color:  #000000;\n",
       "        }#T_9f715_row3_col6,#T_9f715_row6_col0{\n",
       "            background-color:  #abc8fd;\n",
       "            color:  #000000;\n",
       "        }#T_9f715_row3_col7{\n",
       "            background-color:  #edd2c3;\n",
       "            color:  #000000;\n",
       "        }#T_9f715_row3_col10{\n",
       "            background-color:  #b3cdfb;\n",
       "            color:  #000000;\n",
       "        }#T_9f715_row4_col0,#T_9f715_row9_col11{\n",
       "            background-color:  #d3dbe7;\n",
       "            color:  #000000;\n",
       "        }#T_9f715_row4_col1{\n",
       "            background-color:  #bfd3f6;\n",
       "            color:  #000000;\n",
       "        }#T_9f715_row4_col2{\n",
       "            background-color:  #d9dce1;\n",
       "            color:  #000000;\n",
       "        }#T_9f715_row4_col3{\n",
       "            background-color:  #6384eb;\n",
       "            color:  #000000;\n",
       "        }#T_9f715_row4_col5{\n",
       "            background-color:  #6687ed;\n",
       "            color:  #000000;\n",
       "        }#T_9f715_row4_col6{\n",
       "            background-color:  #7ea1fa;\n",
       "            color:  #000000;\n",
       "        }#T_9f715_row4_col7{\n",
       "            background-color:  #d4dbe6;\n",
       "            color:  #000000;\n",
       "        }#T_9f715_row4_col8,#T_9f715_row5_col9,#T_9f715_row6_col4{\n",
       "            background-color:  #8caffe;\n",
       "            color:  #000000;\n",
       "        }#T_9f715_row4_col9,#T_9f715_row9_col4,#T_9f715_row11_col2{\n",
       "            background-color:  #dddcdc;\n",
       "            color:  #000000;\n",
       "        }#T_9f715_row5_col0{\n",
       "            background-color:  #a3c2fe;\n",
       "            color:  #000000;\n",
       "        }#T_9f715_row5_col1{\n",
       "            background-color:  #afcafc;\n",
       "            color:  #000000;\n",
       "        }#T_9f715_row5_col2,#T_9f715_row5_col7{\n",
       "            background-color:  #a5c3fe;\n",
       "            color:  #000000;\n",
       "        }#T_9f715_row5_col6{\n",
       "            background-color:  #f6a385;\n",
       "            color:  #000000;\n",
       "        }#T_9f715_row5_col10,#T_9f715_row9_col8{\n",
       "            background-color:  #9abbff;\n",
       "            color:  #000000;\n",
       "        }#T_9f715_row5_col11{\n",
       "            background-color:  #8badfd;\n",
       "            color:  #000000;\n",
       "        }#T_9f715_row6_col2{\n",
       "            background-color:  #b9d0f9;\n",
       "            color:  #000000;\n",
       "        }#T_9f715_row6_col3{\n",
       "            background-color:  #93b5fe;\n",
       "            color:  #000000;\n",
       "        }#T_9f715_row6_col5{\n",
       "            background-color:  #f7a889;\n",
       "            color:  #000000;\n",
       "        }#T_9f715_row6_col7{\n",
       "            background-color:  #bad0f8;\n",
       "            color:  #000000;\n",
       "        }#T_9f715_row6_col8{\n",
       "            background-color:  #b5cdfa;\n",
       "            color:  #000000;\n",
       "        }#T_9f715_row6_col9,#T_9f715_row8_col11{\n",
       "            background-color:  #89acfd;\n",
       "            color:  #000000;\n",
       "        }#T_9f715_row6_col10,#T_9f715_row8_col5{\n",
       "            background-color:  #799cf8;\n",
       "            color:  #000000;\n",
       "        }#T_9f715_row6_col11{\n",
       "            background-color:  #688aef;\n",
       "            color:  #000000;\n",
       "        }#T_9f715_row7_col0{\n",
       "            background-color:  #ed8366;\n",
       "            color:  #000000;\n",
       "        }#T_9f715_row7_col2{\n",
       "            background-color:  #f1cdba;\n",
       "            color:  #000000;\n",
       "        }#T_9f715_row7_col5,#T_9f715_row8_col6{\n",
       "            background-color:  #5e7de7;\n",
       "            color:  #000000;\n",
       "        }#T_9f715_row7_col6{\n",
       "            background-color:  #85a8fc;\n",
       "            color:  #000000;\n",
       "        }#T_9f715_row7_col9{\n",
       "            background-color:  #a7c5fe;\n",
       "            color:  #000000;\n",
       "        }#T_9f715_row7_col11{\n",
       "            background-color:  #6b8df0;\n",
       "            color:  #000000;\n",
       "        }#T_9f715_row8_col1{\n",
       "            background-color:  #dedcdb;\n",
       "            color:  #000000;\n",
       "        }#T_9f715_row8_col2{\n",
       "            background-color:  #3c4ec2;\n",
       "            color:  #f1f1f1;\n",
       "        }#T_9f715_row8_col7,#T_9f715_row11_col1{\n",
       "            background-color:  #5a78e4;\n",
       "            color:  #000000;\n",
       "        }#T_9f715_row8_col9{\n",
       "            background-color:  #4a63d3;\n",
       "            color:  #f1f1f1;\n",
       "        }#T_9f715_row8_col10{\n",
       "            background-color:  #d5dbe5;\n",
       "            color:  #000000;\n",
       "        }#T_9f715_row9_col0{\n",
       "            background-color:  #e0dbd8;\n",
       "            color:  #000000;\n",
       "        }#T_9f715_row9_col2{\n",
       "            background-color:  #ead4c8;\n",
       "            color:  #000000;\n",
       "        }#T_9f715_row9_col5{\n",
       "            background-color:  #7396f5;\n",
       "            color:  #000000;\n",
       "        }#T_9f715_row9_col6{\n",
       "            background-color:  #7da0f9;\n",
       "            color:  #000000;\n",
       "        }#T_9f715_row9_col7{\n",
       "            background-color:  #cad8ef;\n",
       "            color:  #000000;\n",
       "        }#T_9f715_row9_col10{\n",
       "            background-color:  #bed2f6;\n",
       "            color:  #000000;\n",
       "        }#T_9f715_row10_col1{\n",
       "            background-color:  #84a7fc;\n",
       "            color:  #000000;\n",
       "        }#T_9f715_row10_col2{\n",
       "            background-color:  #c9d7f0;\n",
       "            color:  #000000;\n",
       "        }#T_9f715_row10_col3{\n",
       "            background-color:  #5f7fe8;\n",
       "            color:  #000000;\n",
       "        }#T_9f715_row10_col4{\n",
       "            background-color:  #445acc;\n",
       "            color:  #f1f1f1;\n",
       "        }#T_9f715_row10_col5{\n",
       "            background-color:  #506bda;\n",
       "            color:  #000000;\n",
       "        }#T_9f715_row10_col8{\n",
       "            background-color:  #e4d9d2;\n",
       "            color:  #000000;\n",
       "        }#T_9f715_row10_col9{\n",
       "            background-color:  #97b8ff;\n",
       "            color:  #000000;\n",
       "        }#T_9f715_row10_col11{\n",
       "            background-color:  #f4c5ad;\n",
       "            color:  #000000;\n",
       "        }#T_9f715_row11_col0{\n",
       "            background-color:  #d7dce3;\n",
       "            color:  #000000;\n",
       "        }#T_9f715_row11_col3{\n",
       "            background-color:  #5673e0;\n",
       "            color:  #000000;\n",
       "        }#T_9f715_row11_col4{\n",
       "            background-color:  #5b7ae5;\n",
       "            color:  #000000;\n",
       "        }#T_9f715_row11_col5{\n",
       "            background-color:  #5572df;\n",
       "            color:  #000000;\n",
       "        }#T_9f715_row11_col6{\n",
       "            background-color:  #3f53c6;\n",
       "            color:  #f1f1f1;\n",
       "        }#T_9f715_row11_col8{\n",
       "            background-color:  #b7cff9;\n",
       "            color:  #000000;\n",
       "        }#T_9f715_row11_col9{\n",
       "            background-color:  #c3d5f4;\n",
       "            color:  #000000;\n",
       "        }#T_9f715_row11_col10{\n",
       "            background-color:  #f6bda2;\n",
       "            color:  #000000;\n",
       "        }</style><table id=\"T_9f715_\" ><thead>    <tr>        <th class=\"blank level0\" ></th>        <th class=\"col_heading level0 col0\" >fixed acidity</th>        <th class=\"col_heading level0 col1\" >volatile acidity</th>        <th class=\"col_heading level0 col2\" >citric acid</th>        <th class=\"col_heading level0 col3\" >residual sugar</th>        <th class=\"col_heading level0 col4\" >chlorides</th>        <th class=\"col_heading level0 col5\" >free sulfur dioxide</th>        <th class=\"col_heading level0 col6\" >total sulfur dioxide</th>        <th class=\"col_heading level0 col7\" >density</th>        <th class=\"col_heading level0 col8\" >pH</th>        <th class=\"col_heading level0 col9\" >sulphates</th>        <th class=\"col_heading level0 col10\" >alcohol</th>        <th class=\"col_heading level0 col11\" >quality</th>    </tr></thead><tbody>\n",
       "                <tr>\n",
       "                        <th id=\"T_9f715_level0_row0\" class=\"row_heading level0 row0\" >fixed acidity</th>\n",
       "                        <td id=\"T_9f715_row0_col0\" class=\"data row0 col0\" >1.000000</td>\n",
       "                        <td id=\"T_9f715_row0_col1\" class=\"data row0 col1\" >-0.256131</td>\n",
       "                        <td id=\"T_9f715_row0_col2\" class=\"data row0 col2\" >0.671703</td>\n",
       "                        <td id=\"T_9f715_row0_col3\" class=\"data row0 col3\" >0.114777</td>\n",
       "                        <td id=\"T_9f715_row0_col4\" class=\"data row0 col4\" >0.093705</td>\n",
       "                        <td id=\"T_9f715_row0_col5\" class=\"data row0 col5\" >-0.153794</td>\n",
       "                        <td id=\"T_9f715_row0_col6\" class=\"data row0 col6\" >-0.113181</td>\n",
       "                        <td id=\"T_9f715_row0_col7\" class=\"data row0 col7\" >0.668047</td>\n",
       "                        <td id=\"T_9f715_row0_col8\" class=\"data row0 col8\" >-0.682978</td>\n",
       "                        <td id=\"T_9f715_row0_col9\" class=\"data row0 col9\" >0.183006</td>\n",
       "                        <td id=\"T_9f715_row0_col10\" class=\"data row0 col10\" >-0.061668</td>\n",
       "                        <td id=\"T_9f715_row0_col11\" class=\"data row0 col11\" >0.124052</td>\n",
       "            </tr>\n",
       "            <tr>\n",
       "                        <th id=\"T_9f715_level0_row1\" class=\"row_heading level0 row1\" >volatile acidity</th>\n",
       "                        <td id=\"T_9f715_row1_col0\" class=\"data row1 col0\" >-0.256131</td>\n",
       "                        <td id=\"T_9f715_row1_col1\" class=\"data row1 col1\" >1.000000</td>\n",
       "                        <td id=\"T_9f715_row1_col2\" class=\"data row1 col2\" >-0.552496</td>\n",
       "                        <td id=\"T_9f715_row1_col3\" class=\"data row1 col3\" >0.001918</td>\n",
       "                        <td id=\"T_9f715_row1_col4\" class=\"data row1 col4\" >0.061298</td>\n",
       "                        <td id=\"T_9f715_row1_col5\" class=\"data row1 col5\" >-0.010504</td>\n",
       "                        <td id=\"T_9f715_row1_col6\" class=\"data row1 col6\" >0.076470</td>\n",
       "                        <td id=\"T_9f715_row1_col7\" class=\"data row1 col7\" >0.022026</td>\n",
       "                        <td id=\"T_9f715_row1_col8\" class=\"data row1 col8\" >0.234937</td>\n",
       "                        <td id=\"T_9f715_row1_col9\" class=\"data row1 col9\" >-0.260987</td>\n",
       "                        <td id=\"T_9f715_row1_col10\" class=\"data row1 col10\" >-0.202288</td>\n",
       "                        <td id=\"T_9f715_row1_col11\" class=\"data row1 col11\" >-0.390558</td>\n",
       "            </tr>\n",
       "            <tr>\n",
       "                        <th id=\"T_9f715_level0_row2\" class=\"row_heading level0 row2\" >citric acid</th>\n",
       "                        <td id=\"T_9f715_row2_col0\" class=\"data row2 col0\" >0.671703</td>\n",
       "                        <td id=\"T_9f715_row2_col1\" class=\"data row2 col1\" >-0.552496</td>\n",
       "                        <td id=\"T_9f715_row2_col2\" class=\"data row2 col2\" >1.000000</td>\n",
       "                        <td id=\"T_9f715_row2_col3\" class=\"data row2 col3\" >0.143577</td>\n",
       "                        <td id=\"T_9f715_row2_col4\" class=\"data row2 col4\" >0.203823</td>\n",
       "                        <td id=\"T_9f715_row2_col5\" class=\"data row2 col5\" >-0.060978</td>\n",
       "                        <td id=\"T_9f715_row2_col6\" class=\"data row2 col6\" >0.035533</td>\n",
       "                        <td id=\"T_9f715_row2_col7\" class=\"data row2 col7\" >0.364947</td>\n",
       "                        <td id=\"T_9f715_row2_col8\" class=\"data row2 col8\" >-0.541904</td>\n",
       "                        <td id=\"T_9f715_row2_col9\" class=\"data row2 col9\" >0.312770</td>\n",
       "                        <td id=\"T_9f715_row2_col10\" class=\"data row2 col10\" >0.109903</td>\n",
       "                        <td id=\"T_9f715_row2_col11\" class=\"data row2 col11\" >0.226373</td>\n",
       "            </tr>\n",
       "            <tr>\n",
       "                        <th id=\"T_9f715_level0_row3\" class=\"row_heading level0 row3\" >residual sugar</th>\n",
       "                        <td id=\"T_9f715_row3_col0\" class=\"data row3 col0\" >0.114777</td>\n",
       "                        <td id=\"T_9f715_row3_col1\" class=\"data row3 col1\" >0.001918</td>\n",
       "                        <td id=\"T_9f715_row3_col2\" class=\"data row3 col2\" >0.143577</td>\n",
       "                        <td id=\"T_9f715_row3_col3\" class=\"data row3 col3\" >1.000000</td>\n",
       "                        <td id=\"T_9f715_row3_col4\" class=\"data row3 col4\" >0.055610</td>\n",
       "                        <td id=\"T_9f715_row3_col5\" class=\"data row3 col5\" >0.187049</td>\n",
       "                        <td id=\"T_9f715_row3_col6\" class=\"data row3 col6\" >0.203028</td>\n",
       "                        <td id=\"T_9f715_row3_col7\" class=\"data row3 col7\" >0.355283</td>\n",
       "                        <td id=\"T_9f715_row3_col8\" class=\"data row3 col8\" >-0.085652</td>\n",
       "                        <td id=\"T_9f715_row3_col9\" class=\"data row3 col9\" >0.005527</td>\n",
       "                        <td id=\"T_9f715_row3_col10\" class=\"data row3 col10\" >0.042075</td>\n",
       "                        <td id=\"T_9f715_row3_col11\" class=\"data row3 col11\" >0.013732</td>\n",
       "            </tr>\n",
       "            <tr>\n",
       "                        <th id=\"T_9f715_level0_row4\" class=\"row_heading level0 row4\" >chlorides</th>\n",
       "                        <td id=\"T_9f715_row4_col0\" class=\"data row4 col0\" >0.093705</td>\n",
       "                        <td id=\"T_9f715_row4_col1\" class=\"data row4 col1\" >0.061298</td>\n",
       "                        <td id=\"T_9f715_row4_col2\" class=\"data row4 col2\" >0.203823</td>\n",
       "                        <td id=\"T_9f715_row4_col3\" class=\"data row4 col3\" >0.055610</td>\n",
       "                        <td id=\"T_9f715_row4_col4\" class=\"data row4 col4\" >1.000000</td>\n",
       "                        <td id=\"T_9f715_row4_col5\" class=\"data row4 col5\" >0.005562</td>\n",
       "                        <td id=\"T_9f715_row4_col6\" class=\"data row4 col6\" >0.047400</td>\n",
       "                        <td id=\"T_9f715_row4_col7\" class=\"data row4 col7\" >0.200632</td>\n",
       "                        <td id=\"T_9f715_row4_col8\" class=\"data row4 col8\" >-0.265026</td>\n",
       "                        <td id=\"T_9f715_row4_col9\" class=\"data row4 col9\" >0.371260</td>\n",
       "                        <td id=\"T_9f715_row4_col10\" class=\"data row4 col10\" >-0.221141</td>\n",
       "                        <td id=\"T_9f715_row4_col11\" class=\"data row4 col11\" >-0.128907</td>\n",
       "            </tr>\n",
       "            <tr>\n",
       "                        <th id=\"T_9f715_level0_row5\" class=\"row_heading level0 row5\" >free sulfur dioxide</th>\n",
       "                        <td id=\"T_9f715_row5_col0\" class=\"data row5 col0\" >-0.153794</td>\n",
       "                        <td id=\"T_9f715_row5_col1\" class=\"data row5 col1\" >-0.010504</td>\n",
       "                        <td id=\"T_9f715_row5_col2\" class=\"data row5 col2\" >-0.060978</td>\n",
       "                        <td id=\"T_9f715_row5_col3\" class=\"data row5 col3\" >0.187049</td>\n",
       "                        <td id=\"T_9f715_row5_col4\" class=\"data row5 col4\" >0.005562</td>\n",
       "                        <td id=\"T_9f715_row5_col5\" class=\"data row5 col5\" >1.000000</td>\n",
       "                        <td id=\"T_9f715_row5_col6\" class=\"data row5 col6\" >0.667666</td>\n",
       "                        <td id=\"T_9f715_row5_col7\" class=\"data row5 col7\" >-0.021946</td>\n",
       "                        <td id=\"T_9f715_row5_col8\" class=\"data row5 col8\" >0.070377</td>\n",
       "                        <td id=\"T_9f715_row5_col9\" class=\"data row5 col9\" >0.051658</td>\n",
       "                        <td id=\"T_9f715_row5_col10\" class=\"data row5 col10\" >-0.069408</td>\n",
       "                        <td id=\"T_9f715_row5_col11\" class=\"data row5 col11\" >-0.050656</td>\n",
       "            </tr>\n",
       "            <tr>\n",
       "                        <th id=\"T_9f715_level0_row6\" class=\"row_heading level0 row6\" >total sulfur dioxide</th>\n",
       "                        <td id=\"T_9f715_row6_col0\" class=\"data row6 col0\" >-0.113181</td>\n",
       "                        <td id=\"T_9f715_row6_col1\" class=\"data row6 col1\" >0.076470</td>\n",
       "                        <td id=\"T_9f715_row6_col2\" class=\"data row6 col2\" >0.035533</td>\n",
       "                        <td id=\"T_9f715_row6_col3\" class=\"data row6 col3\" >0.203028</td>\n",
       "                        <td id=\"T_9f715_row6_col4\" class=\"data row6 col4\" >0.047400</td>\n",
       "                        <td id=\"T_9f715_row6_col5\" class=\"data row6 col5\" >0.667666</td>\n",
       "                        <td id=\"T_9f715_row6_col6\" class=\"data row6 col6\" >1.000000</td>\n",
       "                        <td id=\"T_9f715_row6_col7\" class=\"data row6 col7\" >0.071269</td>\n",
       "                        <td id=\"T_9f715_row6_col8\" class=\"data row6 col8\" >-0.066495</td>\n",
       "                        <td id=\"T_9f715_row6_col9\" class=\"data row6 col9\" >0.042947</td>\n",
       "                        <td id=\"T_9f715_row6_col10\" class=\"data row6 col10\" >-0.205654</td>\n",
       "                        <td id=\"T_9f715_row6_col11\" class=\"data row6 col11\" >-0.185100</td>\n",
       "            </tr>\n",
       "            <tr>\n",
       "                        <th id=\"T_9f715_level0_row7\" class=\"row_heading level0 row7\" >density</th>\n",
       "                        <td id=\"T_9f715_row7_col0\" class=\"data row7 col0\" >0.668047</td>\n",
       "                        <td id=\"T_9f715_row7_col1\" class=\"data row7 col1\" >0.022026</td>\n",
       "                        <td id=\"T_9f715_row7_col2\" class=\"data row7 col2\" >0.364947</td>\n",
       "                        <td id=\"T_9f715_row7_col3\" class=\"data row7 col3\" >0.355283</td>\n",
       "                        <td id=\"T_9f715_row7_col4\" class=\"data row7 col4\" >0.200632</td>\n",
       "                        <td id=\"T_9f715_row7_col5\" class=\"data row7 col5\" >-0.021946</td>\n",
       "                        <td id=\"T_9f715_row7_col6\" class=\"data row7 col6\" >0.071269</td>\n",
       "                        <td id=\"T_9f715_row7_col7\" class=\"data row7 col7\" >1.000000</td>\n",
       "                        <td id=\"T_9f715_row7_col8\" class=\"data row7 col8\" >-0.341699</td>\n",
       "                        <td id=\"T_9f715_row7_col9\" class=\"data row7 col9\" >0.148506</td>\n",
       "                        <td id=\"T_9f715_row7_col10\" class=\"data row7 col10\" >-0.496180</td>\n",
       "                        <td id=\"T_9f715_row7_col11\" class=\"data row7 col11\" >-0.174919</td>\n",
       "            </tr>\n",
       "            <tr>\n",
       "                        <th id=\"T_9f715_level0_row8\" class=\"row_heading level0 row8\" >pH</th>\n",
       "                        <td id=\"T_9f715_row8_col0\" class=\"data row8 col0\" >-0.682978</td>\n",
       "                        <td id=\"T_9f715_row8_col1\" class=\"data row8 col1\" >0.234937</td>\n",
       "                        <td id=\"T_9f715_row8_col2\" class=\"data row8 col2\" >-0.541904</td>\n",
       "                        <td id=\"T_9f715_row8_col3\" class=\"data row8 col3\" >-0.085652</td>\n",
       "                        <td id=\"T_9f715_row8_col4\" class=\"data row8 col4\" >-0.265026</td>\n",
       "                        <td id=\"T_9f715_row8_col5\" class=\"data row8 col5\" >0.070377</td>\n",
       "                        <td id=\"T_9f715_row8_col6\" class=\"data row8 col6\" >-0.066495</td>\n",
       "                        <td id=\"T_9f715_row8_col7\" class=\"data row8 col7\" >-0.341699</td>\n",
       "                        <td id=\"T_9f715_row8_col8\" class=\"data row8 col8\" >1.000000</td>\n",
       "                        <td id=\"T_9f715_row8_col9\" class=\"data row8 col9\" >-0.196648</td>\n",
       "                        <td id=\"T_9f715_row8_col10\" class=\"data row8 col10\" >0.205633</td>\n",
       "                        <td id=\"T_9f715_row8_col11\" class=\"data row8 col11\" >-0.057731</td>\n",
       "            </tr>\n",
       "            <tr>\n",
       "                        <th id=\"T_9f715_level0_row9\" class=\"row_heading level0 row9\" >sulphates</th>\n",
       "                        <td id=\"T_9f715_row9_col0\" class=\"data row9 col0\" >0.183006</td>\n",
       "                        <td id=\"T_9f715_row9_col1\" class=\"data row9 col1\" >-0.260987</td>\n",
       "                        <td id=\"T_9f715_row9_col2\" class=\"data row9 col2\" >0.312770</td>\n",
       "                        <td id=\"T_9f715_row9_col3\" class=\"data row9 col3\" >0.005527</td>\n",
       "                        <td id=\"T_9f715_row9_col4\" class=\"data row9 col4\" >0.371260</td>\n",
       "                        <td id=\"T_9f715_row9_col5\" class=\"data row9 col5\" >0.051658</td>\n",
       "                        <td id=\"T_9f715_row9_col6\" class=\"data row9 col6\" >0.042947</td>\n",
       "                        <td id=\"T_9f715_row9_col7\" class=\"data row9 col7\" >0.148506</td>\n",
       "                        <td id=\"T_9f715_row9_col8\" class=\"data row9 col8\" >-0.196648</td>\n",
       "                        <td id=\"T_9f715_row9_col9\" class=\"data row9 col9\" >1.000000</td>\n",
       "                        <td id=\"T_9f715_row9_col10\" class=\"data row9 col10\" >0.093595</td>\n",
       "                        <td id=\"T_9f715_row9_col11\" class=\"data row9 col11\" >0.251397</td>\n",
       "            </tr>\n",
       "            <tr>\n",
       "                        <th id=\"T_9f715_level0_row10\" class=\"row_heading level0 row10\" >alcohol</th>\n",
       "                        <td id=\"T_9f715_row10_col0\" class=\"data row10 col0\" >-0.061668</td>\n",
       "                        <td id=\"T_9f715_row10_col1\" class=\"data row10 col1\" >-0.202288</td>\n",
       "                        <td id=\"T_9f715_row10_col2\" class=\"data row10 col2\" >0.109903</td>\n",
       "                        <td id=\"T_9f715_row10_col3\" class=\"data row10 col3\" >0.042075</td>\n",
       "                        <td id=\"T_9f715_row10_col4\" class=\"data row10 col4\" >-0.221141</td>\n",
       "                        <td id=\"T_9f715_row10_col5\" class=\"data row10 col5\" >-0.069408</td>\n",
       "                        <td id=\"T_9f715_row10_col6\" class=\"data row10 col6\" >-0.205654</td>\n",
       "                        <td id=\"T_9f715_row10_col7\" class=\"data row10 col7\" >-0.496180</td>\n",
       "                        <td id=\"T_9f715_row10_col8\" class=\"data row10 col8\" >0.205633</td>\n",
       "                        <td id=\"T_9f715_row10_col9\" class=\"data row10 col9\" >0.093595</td>\n",
       "                        <td id=\"T_9f715_row10_col10\" class=\"data row10 col10\" >1.000000</td>\n",
       "                        <td id=\"T_9f715_row10_col11\" class=\"data row10 col11\" >0.476166</td>\n",
       "            </tr>\n",
       "            <tr>\n",
       "                        <th id=\"T_9f715_level0_row11\" class=\"row_heading level0 row11\" >quality</th>\n",
       "                        <td id=\"T_9f715_row11_col0\" class=\"data row11 col0\" >0.124052</td>\n",
       "                        <td id=\"T_9f715_row11_col1\" class=\"data row11 col1\" >-0.390558</td>\n",
       "                        <td id=\"T_9f715_row11_col2\" class=\"data row11 col2\" >0.226373</td>\n",
       "                        <td id=\"T_9f715_row11_col3\" class=\"data row11 col3\" >0.013732</td>\n",
       "                        <td id=\"T_9f715_row11_col4\" class=\"data row11 col4\" >-0.128907</td>\n",
       "                        <td id=\"T_9f715_row11_col5\" class=\"data row11 col5\" >-0.050656</td>\n",
       "                        <td id=\"T_9f715_row11_col6\" class=\"data row11 col6\" >-0.185100</td>\n",
       "                        <td id=\"T_9f715_row11_col7\" class=\"data row11 col7\" >-0.174919</td>\n",
       "                        <td id=\"T_9f715_row11_col8\" class=\"data row11 col8\" >-0.057731</td>\n",
       "                        <td id=\"T_9f715_row11_col9\" class=\"data row11 col9\" >0.251397</td>\n",
       "                        <td id=\"T_9f715_row11_col10\" class=\"data row11 col10\" >0.476166</td>\n",
       "                        <td id=\"T_9f715_row11_col11\" class=\"data row11 col11\" >1.000000</td>\n",
       "            </tr>\n",
       "    </tbody></table>"
      ],
      "text/plain": [
       "<pandas.io.formats.style.Styler at 0x7ff19b0223d0>"
      ]
     },
     "execution_count": 82,
     "metadata": {},
     "output_type": "execute_result"
    }
   ],
   "source": [
    "#for another view, this method can be used to view correlations\n",
    "print('Another view of correlations among features:\\n')\n",
    "wine.corr().style.background_gradient(cmap=\"coolwarm\")"
   ]
  },
  {
   "cell_type": "markdown",
   "id": "interpreted-language",
   "metadata": {},
   "source": [
    "From the above plots and values we observe:\n",
    "\n",
    "- volatile acidity, chlorides and ph are negatively correlated to quality — hence our statement was right that quality increases with decrease in value of these features; and vice versa for other features.\n",
    "- free sulfur dioxide and total sulfur dioxide are highly correlated to each other with correlation of 0.67.\n",
    "- There are many features with correlation < 0.5 to quality, and may be removed from the dataset."
   ]
  },
  {
   "cell_type": "markdown",
   "id": "surprising-lobby",
   "metadata": {},
   "source": [
    "We are looking for accuracy to minute levels, not just some approximation — high quality wine may have very rare composition from other average quality wines, hence we need to take every feature in account while predicting quality of wine, so I am choosing not remove any feature from the dataset."
   ]
  },
  {
   "cell_type": "markdown",
   "id": "under-algorithm",
   "metadata": {},
   "source": [
    "We will first handle this problem with classification algorithm."
   ]
  },
  {
   "cell_type": "markdown",
   "id": "burning-province",
   "metadata": {},
   "source": [
    "## Machine learning"
   ]
  },
  {
   "cell_type": "markdown",
   "id": "norwegian-decrease",
   "metadata": {},
   "source": [
    "Dividing quality of wine in two buckets, ie. Good wine and Bad wine, and on the basis of this we will give our final result."
   ]
  },
  {
   "cell_type": "code",
   "execution_count": 84,
   "id": "french-metabolism",
   "metadata": {},
   "outputs": [
    {
     "data": {
      "text/html": [
       "<div>\n",
       "<style scoped>\n",
       "    .dataframe tbody tr th:only-of-type {\n",
       "        vertical-align: middle;\n",
       "    }\n",
       "\n",
       "    .dataframe tbody tr th {\n",
       "        vertical-align: top;\n",
       "    }\n",
       "\n",
       "    .dataframe thead th {\n",
       "        text-align: right;\n",
       "    }\n",
       "</style>\n",
       "<table border=\"1\" class=\"dataframe\">\n",
       "  <thead>\n",
       "    <tr style=\"text-align: right;\">\n",
       "      <th></th>\n",
       "      <th>fixed acidity</th>\n",
       "      <th>volatile acidity</th>\n",
       "      <th>citric acid</th>\n",
       "      <th>residual sugar</th>\n",
       "      <th>chlorides</th>\n",
       "      <th>free sulfur dioxide</th>\n",
       "      <th>total sulfur dioxide</th>\n",
       "      <th>density</th>\n",
       "      <th>pH</th>\n",
       "      <th>sulphates</th>\n",
       "      <th>alcohol</th>\n",
       "      <th>quality</th>\n",
       "    </tr>\n",
       "  </thead>\n",
       "  <tbody>\n",
       "    <tr>\n",
       "      <th>0</th>\n",
       "      <td>7.4</td>\n",
       "      <td>0.70</td>\n",
       "      <td>0.00</td>\n",
       "      <td>1.9</td>\n",
       "      <td>0.076</td>\n",
       "      <td>11.0</td>\n",
       "      <td>34.0</td>\n",
       "      <td>0.9978</td>\n",
       "      <td>3.51</td>\n",
       "      <td>0.56</td>\n",
       "      <td>9.4</td>\n",
       "      <td>bad</td>\n",
       "    </tr>\n",
       "    <tr>\n",
       "      <th>1</th>\n",
       "      <td>7.8</td>\n",
       "      <td>0.88</td>\n",
       "      <td>0.00</td>\n",
       "      <td>2.6</td>\n",
       "      <td>0.098</td>\n",
       "      <td>25.0</td>\n",
       "      <td>67.0</td>\n",
       "      <td>0.9968</td>\n",
       "      <td>3.20</td>\n",
       "      <td>0.68</td>\n",
       "      <td>9.8</td>\n",
       "      <td>bad</td>\n",
       "    </tr>\n",
       "    <tr>\n",
       "      <th>2</th>\n",
       "      <td>7.8</td>\n",
       "      <td>0.76</td>\n",
       "      <td>0.04</td>\n",
       "      <td>2.3</td>\n",
       "      <td>0.092</td>\n",
       "      <td>15.0</td>\n",
       "      <td>54.0</td>\n",
       "      <td>0.9970</td>\n",
       "      <td>3.26</td>\n",
       "      <td>0.65</td>\n",
       "      <td>9.8</td>\n",
       "      <td>bad</td>\n",
       "    </tr>\n",
       "    <tr>\n",
       "      <th>3</th>\n",
       "      <td>11.2</td>\n",
       "      <td>0.28</td>\n",
       "      <td>0.56</td>\n",
       "      <td>1.9</td>\n",
       "      <td>0.075</td>\n",
       "      <td>17.0</td>\n",
       "      <td>60.0</td>\n",
       "      <td>0.9980</td>\n",
       "      <td>3.16</td>\n",
       "      <td>0.58</td>\n",
       "      <td>9.8</td>\n",
       "      <td>bad</td>\n",
       "    </tr>\n",
       "    <tr>\n",
       "      <th>4</th>\n",
       "      <td>7.4</td>\n",
       "      <td>0.70</td>\n",
       "      <td>0.00</td>\n",
       "      <td>1.9</td>\n",
       "      <td>0.076</td>\n",
       "      <td>11.0</td>\n",
       "      <td>34.0</td>\n",
       "      <td>0.9978</td>\n",
       "      <td>3.51</td>\n",
       "      <td>0.56</td>\n",
       "      <td>9.4</td>\n",
       "      <td>bad</td>\n",
       "    </tr>\n",
       "  </tbody>\n",
       "</table>\n",
       "</div>"
      ],
      "text/plain": [
       "   fixed acidity  volatile acidity  citric acid  residual sugar  chlorides  \\\n",
       "0            7.4              0.70         0.00             1.9      0.076   \n",
       "1            7.8              0.88         0.00             2.6      0.098   \n",
       "2            7.8              0.76         0.04             2.3      0.092   \n",
       "3           11.2              0.28         0.56             1.9      0.075   \n",
       "4            7.4              0.70         0.00             1.9      0.076   \n",
       "\n",
       "   free sulfur dioxide  total sulfur dioxide  density    pH  sulphates  \\\n",
       "0                 11.0                  34.0   0.9978  3.51       0.56   \n",
       "1                 25.0                  67.0   0.9968  3.20       0.68   \n",
       "2                 15.0                  54.0   0.9970  3.26       0.65   \n",
       "3                 17.0                  60.0   0.9980  3.16       0.58   \n",
       "4                 11.0                  34.0   0.9978  3.51       0.56   \n",
       "\n",
       "   alcohol quality  \n",
       "0      9.4     bad  \n",
       "1      9.8     bad  \n",
       "2      9.8     bad  \n",
       "3      9.8     bad  \n",
       "4      9.4     bad  "
      ]
     },
     "execution_count": 84,
     "metadata": {},
     "output_type": "execute_result"
    }
   ],
   "source": [
    "bins = (2, 6.5, 8)\n",
    "group_names = ['bad', 'good']\n",
    "wine['quality'] = pd.cut(wine['quality'], bins = bins, labels = group_names)\n",
    "wine.head()"
   ]
  },
  {
   "cell_type": "markdown",
   "id": "vertical-characteristic",
   "metadata": {},
   "source": [
    "From the above code have divided the quality of wine in two buckets:\n",
    "- Bad wine : range 2 – 6.5\n",
    "- Good wine : range 6.5 – 8\n",
    "\n"
   ]
  },
  {
   "cell_type": "markdown",
   "id": "national-leader",
   "metadata": {},
   "source": [
    "Now we will map the values of bad and good to 0 and 1 respectively, as machine learning models can perform calculation only on numerical data:"
   ]
  },
  {
   "cell_type": "code",
   "execution_count": 85,
   "id": "behavioral-edmonton",
   "metadata": {},
   "outputs": [
    {
     "data": {
      "text/html": [
       "<div>\n",
       "<style scoped>\n",
       "    .dataframe tbody tr th:only-of-type {\n",
       "        vertical-align: middle;\n",
       "    }\n",
       "\n",
       "    .dataframe tbody tr th {\n",
       "        vertical-align: top;\n",
       "    }\n",
       "\n",
       "    .dataframe thead th {\n",
       "        text-align: right;\n",
       "    }\n",
       "</style>\n",
       "<table border=\"1\" class=\"dataframe\">\n",
       "  <thead>\n",
       "    <tr style=\"text-align: right;\">\n",
       "      <th></th>\n",
       "      <th>fixed acidity</th>\n",
       "      <th>volatile acidity</th>\n",
       "      <th>citric acid</th>\n",
       "      <th>residual sugar</th>\n",
       "      <th>chlorides</th>\n",
       "      <th>free sulfur dioxide</th>\n",
       "      <th>total sulfur dioxide</th>\n",
       "      <th>density</th>\n",
       "      <th>pH</th>\n",
       "      <th>sulphates</th>\n",
       "      <th>alcohol</th>\n",
       "      <th>quality</th>\n",
       "    </tr>\n",
       "  </thead>\n",
       "  <tbody>\n",
       "    <tr>\n",
       "      <th>0</th>\n",
       "      <td>7.4</td>\n",
       "      <td>0.70</td>\n",
       "      <td>0.00</td>\n",
       "      <td>1.9</td>\n",
       "      <td>0.076</td>\n",
       "      <td>11.0</td>\n",
       "      <td>34.0</td>\n",
       "      <td>0.9978</td>\n",
       "      <td>3.51</td>\n",
       "      <td>0.56</td>\n",
       "      <td>9.4</td>\n",
       "      <td>0</td>\n",
       "    </tr>\n",
       "    <tr>\n",
       "      <th>1</th>\n",
       "      <td>7.8</td>\n",
       "      <td>0.88</td>\n",
       "      <td>0.00</td>\n",
       "      <td>2.6</td>\n",
       "      <td>0.098</td>\n",
       "      <td>25.0</td>\n",
       "      <td>67.0</td>\n",
       "      <td>0.9968</td>\n",
       "      <td>3.20</td>\n",
       "      <td>0.68</td>\n",
       "      <td>9.8</td>\n",
       "      <td>0</td>\n",
       "    </tr>\n",
       "    <tr>\n",
       "      <th>2</th>\n",
       "      <td>7.8</td>\n",
       "      <td>0.76</td>\n",
       "      <td>0.04</td>\n",
       "      <td>2.3</td>\n",
       "      <td>0.092</td>\n",
       "      <td>15.0</td>\n",
       "      <td>54.0</td>\n",
       "      <td>0.9970</td>\n",
       "      <td>3.26</td>\n",
       "      <td>0.65</td>\n",
       "      <td>9.8</td>\n",
       "      <td>0</td>\n",
       "    </tr>\n",
       "    <tr>\n",
       "      <th>3</th>\n",
       "      <td>11.2</td>\n",
       "      <td>0.28</td>\n",
       "      <td>0.56</td>\n",
       "      <td>1.9</td>\n",
       "      <td>0.075</td>\n",
       "      <td>17.0</td>\n",
       "      <td>60.0</td>\n",
       "      <td>0.9980</td>\n",
       "      <td>3.16</td>\n",
       "      <td>0.58</td>\n",
       "      <td>9.8</td>\n",
       "      <td>0</td>\n",
       "    </tr>\n",
       "    <tr>\n",
       "      <th>4</th>\n",
       "      <td>7.4</td>\n",
       "      <td>0.70</td>\n",
       "      <td>0.00</td>\n",
       "      <td>1.9</td>\n",
       "      <td>0.076</td>\n",
       "      <td>11.0</td>\n",
       "      <td>34.0</td>\n",
       "      <td>0.9978</td>\n",
       "      <td>3.51</td>\n",
       "      <td>0.56</td>\n",
       "      <td>9.4</td>\n",
       "      <td>0</td>\n",
       "    </tr>\n",
       "    <tr>\n",
       "      <th>5</th>\n",
       "      <td>7.4</td>\n",
       "      <td>0.66</td>\n",
       "      <td>0.00</td>\n",
       "      <td>1.8</td>\n",
       "      <td>0.075</td>\n",
       "      <td>13.0</td>\n",
       "      <td>40.0</td>\n",
       "      <td>0.9978</td>\n",
       "      <td>3.51</td>\n",
       "      <td>0.56</td>\n",
       "      <td>9.4</td>\n",
       "      <td>0</td>\n",
       "    </tr>\n",
       "    <tr>\n",
       "      <th>6</th>\n",
       "      <td>7.9</td>\n",
       "      <td>0.60</td>\n",
       "      <td>0.06</td>\n",
       "      <td>1.6</td>\n",
       "      <td>0.069</td>\n",
       "      <td>15.0</td>\n",
       "      <td>59.0</td>\n",
       "      <td>0.9964</td>\n",
       "      <td>3.30</td>\n",
       "      <td>0.46</td>\n",
       "      <td>9.4</td>\n",
       "      <td>0</td>\n",
       "    </tr>\n",
       "    <tr>\n",
       "      <th>7</th>\n",
       "      <td>7.3</td>\n",
       "      <td>0.65</td>\n",
       "      <td>0.00</td>\n",
       "      <td>1.2</td>\n",
       "      <td>0.065</td>\n",
       "      <td>15.0</td>\n",
       "      <td>21.0</td>\n",
       "      <td>0.9946</td>\n",
       "      <td>3.39</td>\n",
       "      <td>0.47</td>\n",
       "      <td>10.0</td>\n",
       "      <td>1</td>\n",
       "    </tr>\n",
       "    <tr>\n",
       "      <th>8</th>\n",
       "      <td>7.8</td>\n",
       "      <td>0.58</td>\n",
       "      <td>0.02</td>\n",
       "      <td>2.0</td>\n",
       "      <td>0.073</td>\n",
       "      <td>9.0</td>\n",
       "      <td>18.0</td>\n",
       "      <td>0.9968</td>\n",
       "      <td>3.36</td>\n",
       "      <td>0.57</td>\n",
       "      <td>9.5</td>\n",
       "      <td>1</td>\n",
       "    </tr>\n",
       "    <tr>\n",
       "      <th>9</th>\n",
       "      <td>7.5</td>\n",
       "      <td>0.50</td>\n",
       "      <td>0.36</td>\n",
       "      <td>6.1</td>\n",
       "      <td>0.071</td>\n",
       "      <td>17.0</td>\n",
       "      <td>102.0</td>\n",
       "      <td>0.9978</td>\n",
       "      <td>3.35</td>\n",
       "      <td>0.80</td>\n",
       "      <td>10.5</td>\n",
       "      <td>0</td>\n",
       "    </tr>\n",
       "  </tbody>\n",
       "</table>\n",
       "</div>"
      ],
      "text/plain": [
       "   fixed acidity  volatile acidity  citric acid  residual sugar  chlorides  \\\n",
       "0            7.4              0.70         0.00             1.9      0.076   \n",
       "1            7.8              0.88         0.00             2.6      0.098   \n",
       "2            7.8              0.76         0.04             2.3      0.092   \n",
       "3           11.2              0.28         0.56             1.9      0.075   \n",
       "4            7.4              0.70         0.00             1.9      0.076   \n",
       "5            7.4              0.66         0.00             1.8      0.075   \n",
       "6            7.9              0.60         0.06             1.6      0.069   \n",
       "7            7.3              0.65         0.00             1.2      0.065   \n",
       "8            7.8              0.58         0.02             2.0      0.073   \n",
       "9            7.5              0.50         0.36             6.1      0.071   \n",
       "\n",
       "   free sulfur dioxide  total sulfur dioxide  density    pH  sulphates  \\\n",
       "0                 11.0                  34.0   0.9978  3.51       0.56   \n",
       "1                 25.0                  67.0   0.9968  3.20       0.68   \n",
       "2                 15.0                  54.0   0.9970  3.26       0.65   \n",
       "3                 17.0                  60.0   0.9980  3.16       0.58   \n",
       "4                 11.0                  34.0   0.9978  3.51       0.56   \n",
       "5                 13.0                  40.0   0.9978  3.51       0.56   \n",
       "6                 15.0                  59.0   0.9964  3.30       0.46   \n",
       "7                 15.0                  21.0   0.9946  3.39       0.47   \n",
       "8                  9.0                  18.0   0.9968  3.36       0.57   \n",
       "9                 17.0                 102.0   0.9978  3.35       0.80   \n",
       "\n",
       "   alcohol quality  \n",
       "0      9.4       0  \n",
       "1      9.8       0  \n",
       "2      9.8       0  \n",
       "3      9.8       0  \n",
       "4      9.4       0  \n",
       "5      9.4       0  \n",
       "6      9.4       0  \n",
       "7     10.0       1  \n",
       "8      9.5       1  \n",
       "9     10.5       0  "
      ]
     },
     "execution_count": 85,
     "metadata": {},
     "output_type": "execute_result"
    }
   ],
   "source": [
    "wine['quality'] = wine['quality'].map({'bad' : 0, 'good' : 1})\n",
    "wine.head(10)"
   ]
  },
  {
   "cell_type": "markdown",
   "id": "sitting-technical",
   "metadata": {},
   "source": [
    "Let's visualise our new data ! "
   ]
  },
  {
   "cell_type": "code",
   "execution_count": 86,
   "id": "objective-wallace",
   "metadata": {},
   "outputs": [
    {
     "name": "stdout",
     "output_type": "stream",
     "text": [
      "0    1382\n",
      "1     217\n",
      "Name: quality, dtype: int64\n"
     ]
    },
    {
     "name": "stderr",
     "output_type": "stream",
     "text": [
      "/Users/nathanamar/opt/anaconda3/envs/test/lib/python3.9/site-packages/seaborn/_decorators.py:36: FutureWarning: Pass the following variable as a keyword arg: x. From version 0.12, the only valid positional argument will be `data`, and passing other arguments without an explicit keyword will result in an error or misinterpretation.\n",
      "  warnings.warn(\n"
     ]
    },
    {
     "data": {
      "image/png": "[encoded data removed]",
      "text/plain": [
       "<Figure size 1080x360 with 2 Axes>"
      ]
     },
     "metadata": {
      "needs_background": "light"
     },
     "output_type": "display_data"
    }
   ],
   "source": [
    "print(wine['quality'].value_counts())\n",
    "fig, ax = plt.subplots(ncols=2, nrows=1, figsize=(18, 5))\n",
    "ax = ax.flatten()\n",
    "wine['quality'].value_counts().plot(x=0, y=1, kind='pie', figsize=(15,5), ax=ax[0])\n",
    "sns.countplot(wine['quality'], ax=ax[1])\n",
    "plt.show()"
   ]
  },
  {
   "cell_type": "markdown",
   "id": "psychological-adaptation",
   "metadata": {},
   "source": [
    "### Train test split"
   ]
  },
  {
   "cell_type": "code",
   "execution_count": 89,
   "id": "floating-pledge",
   "metadata": {},
   "outputs": [],
   "source": [
    "X = wine.drop('quality', axis = 1)\n",
    "y = wine['quality']\n",
    " \n",
    "#Creating training and test set\n",
    "X_train, X_test, y_train, y_test = train_test_split(X, y, test_size=0.20, random_state=42)"
   ]
  },
  {
   "cell_type": "code",
   "execution_count": 90,
   "id": "animated-preservation",
   "metadata": {},
   "outputs": [],
   "source": [
    "#Feature scaling, but not scaling dependent variable as it has categorical data\n",
    "from sklearn.preprocessing import StandardScaler\n",
    "sc = StandardScaler()\n",
    "X_train = sc.fit_transform(X_train)\n",
    "X_test = sc.fit_transform(X_test)"
   ]
  },
  {
   "cell_type": "markdown",
   "id": "modified-iraqi",
   "metadata": {},
   "source": [
    "#### Our training and testing data is ready now to perform machine learning algorithm"
   ]
  },
  {
   "cell_type": "markdown",
   "id": "contained-yugoslavia",
   "metadata": {},
   "source": [
    "### Logistic Regression"
   ]
  },
  {
   "cell_type": "code",
   "execution_count": 117,
   "id": "desperate-boundary",
   "metadata": {},
   "outputs": [
    {
     "name": "stdout",
     "output_type": "stream",
     "text": [
      "     Actual  Predicted\n",
      "237       0          0\n",
      "1436      0          0\n",
      "1350      0          0\n",
      "724       0          0\n",
      "629       0          0\n",
      "\n",
      "Confussion matrix:\n",
      "[[268   5]\n",
      " [ 35  12]]\n"
     ]
    }
   ],
   "source": [
    "logreg = LogisticRegression(solver='lbfgs', random_state=42)\n",
    "logreg.fit(X_train, y_train)\n",
    "pred_logreg = logreg.predict(X_test)\n",
    "Y_compare_logisticRegression = pd.DataFrame({'Actual' : y_test, 'Predicted' : pred_logreg})\n",
    "print(Y_compare_logisticRegression.sample(5))\n",
    "print('\\nConfussion matrix:')\n",
    "print(confusion_matrix(y_test, pred_logreg))"
   ]
  },
  {
   "cell_type": "code",
   "execution_count": 121,
   "id": "gorgeous-occupation",
   "metadata": {},
   "outputs": [
    {
     "data": {
      "image/png": "[encoded data removed]",
      "text/plain": [
       "<Figure size 360x360 with 2 Axes>"
      ]
     },
     "metadata": {
      "needs_background": "light"
     },
     "output_type": "display_data"
    }
   ],
   "source": [
    "import itertools\n",
    "def plot_confusion_matrix(cm, classes, normalize = False,\n",
    "                          title='Confusion matrix',\n",
    "                          cmap=plt.cm.Greens): # can change color \n",
    "    plt.figure(figsize = (5, 5))\n",
    "    plt.imshow(cm, interpolation='nearest', cmap=cmap)\n",
    "    plt.title(title, size = 24)\n",
    "    plt.colorbar(aspect=4)\n",
    "    tick_marks = np.arange(len(classes))\n",
    "    plt.xticks(tick_marks, classes, rotation=45, size = 14)\n",
    "    plt.yticks(tick_marks, classes, size = 14)\n",
    "    fmt = '.2f' if normalize else 'd'\n",
    "    thresh = cm.max() / 2.\n",
    "    # Label the plot\n",
    "    for i, j in itertools.product(range(cm.shape[0]),range(cm.shape[1])):\n",
    "             plt.text(j, i, format(cm[i, j], fmt), \n",
    "             fontsize = 20,\n",
    "             horizontalalignment=\"center\",\n",
    "             color=\"white\" if cm[i, j] > thresh else \"black\")\n",
    "    \n",
    "    plt.tight_layout()\n",
    "    plt.ylabel('True label', size = 18)\n",
    "    plt.xlabel('Predicted label', size = 18)\n",
    "\n",
    "# Let's plot it out\n",
    "cm = confusion_matrix(y_test, pred_logreg)\n",
    "plot_confusion_matrix(cm, classes = ['0 - Bad', '1 - Good'],\n",
    "                      title = 'Confusion Matrix')"
   ]
  },
  {
   "cell_type": "markdown",
   "id": "regional-skiing",
   "metadata": {},
   "source": [
    "### K-Nearest Neighbour Classification\n",
    "\n"
   ]
  },
  {
   "cell_type": "code",
   "execution_count": 123,
   "id": "special-matrix",
   "metadata": {},
   "outputs": [
    {
     "name": "stdout",
     "output_type": "stream",
     "text": [
      "     Actual  Predicted\n",
      "803       0          0\n",
      "124       0          0\n",
      "350       0          0\n",
      "682       0          0\n",
      "1326      0          0\n",
      "\n",
      "Confussion matrix:\n",
      "[[266   7]\n",
      " [ 34  13]]\n"
     ]
    }
   ],
   "source": [
    "knn = KNN(n_neighbors=2, metric='minkowski', p=2,)\n",
    "knn.fit(X_train, y_train)\n",
    "pred_knn = knn.predict(X_test)\n",
    "Y_compare_knn = pd.DataFrame({'Actual' : y_test, 'Predicted' : pred_knn})\n",
    "print(Y_compare_knn.head())\n",
    "print('\\nConfussion matrix:')\n",
    "print(confusion_matrix(y_test, pred_knn))"
   ]
  },
  {
   "cell_type": "code",
   "execution_count": 124,
   "id": "powered-bleeding",
   "metadata": {},
   "outputs": [
    {
     "data": {
      "image/png": "[encoded data removed]",
      "text/plain": [
       "<Figure size 360x360 with 2 Axes>"
      ]
     },
     "metadata": {
      "needs_background": "light"
     },
     "output_type": "display_data"
    }
   ],
   "source": [
    "cm = confusion_matrix(y_test, pred_knn)\n",
    "plot_confusion_matrix(cm, classes = ['0 - Bad', '1 - Good'],\n",
    "                      title = 'Confusion Matrix')"
   ]
  },
  {
   "cell_type": "markdown",
   "id": "fourth-nicholas",
   "metadata": {},
   "source": [
    "### Random Forrest Classification"
   ]
  },
  {
   "cell_type": "code",
   "execution_count": 125,
   "id": "visible-capitol",
   "metadata": {},
   "outputs": [
    {
     "name": "stdout",
     "output_type": "stream",
     "text": [
      "     Actual  Predicted\n",
      "803       0          0\n",
      "124       0          0\n",
      "350       0          0\n",
      "682       0          0\n",
      "1326      0          0\n",
      "\n",
      "Confussion matrix:\n",
      "[[264   9]\n",
      " [ 25  22]]\n"
     ]
    }
   ],
   "source": [
    "rfc = RandomForestClassifier(n_estimators=25, criterion='gini', random_state=0,)\n",
    "rfc.fit(X_train, y_train)\n",
    "pred_rf = rfc.predict(X_test)\n",
    "Y_compare_rfc = pd.DataFrame({'Actual' : y_test, 'Predicted' : pred_rf})\n",
    "print(Y_compare_rfc.head())\n",
    "print('\\nConfussion matrix:')\n",
    "print(confusion_matrix(y_test, pred_rf))"
   ]
  },
  {
   "cell_type": "code",
   "execution_count": 126,
   "id": "olive-arcade",
   "metadata": {},
   "outputs": [
    {
     "data": {
      "image/png": "[encoded data removed]",
      "text/plain": [
       "<Figure size 360x360 with 2 Axes>"
      ]
     },
     "metadata": {
      "needs_background": "light"
     },
     "output_type": "display_data"
    }
   ],
   "source": [
    "cm = confusion_matrix(y_test, pred_rf)\n",
    "plot_confusion_matrix(cm, classes = ['0 - Bad', '1 - Good'],\n",
    "                      title = 'Confusion Matrix')"
   ]
  },
  {
   "cell_type": "markdown",
   "id": "streaming-grill",
   "metadata": {},
   "source": [
    "### Checking accuracy of different model"
   ]
  },
  {
   "cell_type": "code",
   "execution_count": 127,
   "id": "critical-beatles",
   "metadata": {},
   "outputs": [
    {
     "name": "stdout",
     "output_type": "stream",
     "text": [
      "Accuracy of Logistic Regression Classification model is 0.89\n",
      "Accuracy of K-Nearest Neighbour Classification model is 0.89\n",
      "Accuracy of Random Forrest Classification model is 0.91\n"
     ]
    }
   ],
   "source": [
    "#K-fold cross validation\n",
    "modelNames = ['Logistic Regression', 'K-Nearest Neighbour', 'Random Forrest']\n",
    "modelClassifiers = [logreg, knn,rfc]\n",
    "models = pd.DataFrame({'modelNames' : modelNames, 'modelClassifiers' : modelClassifiers})\n",
    "counter=0\n",
    "score=[]\n",
    "for i in models['modelClassifiers']:\n",
    "  accuracy = cross_val_score(i, X_train, y_train, scoring='accuracy', cv=10)\n",
    "  print('Accuracy of %s Classification model is %.2f' %(models.iloc[counter,0],accuracy.mean()))\n",
    "  score.append(accuracy.mean())\n",
    "  counter+=1"
   ]
  },
  {
   "cell_type": "code",
   "execution_count": 128,
   "id": "molecular-imagination",
   "metadata": {
    "scrolled": false
   },
   "outputs": [
    {
     "data": {
      "image/png": "[encoded data removed]",
      "text/plain": [
       "<Figure size 1080x360 with 1 Axes>"
      ]
     },
     "metadata": {
      "needs_background": "light"
     },
     "output_type": "display_data"
    }
   ],
   "source": [
    "#Plotting the accuracies of different models\n",
    "pd.DataFrame({'Model Name' : modelNames,'Score' : score}).sort_values(by='Score', ascending=True).plot(x=0, y=1, kind='bar', figsize=(15,5), title='Comparison of accuracies of differnt classification models')\n",
    "plt.show()"
   ]
  },
  {
   "cell_type": "markdown",
   "id": "purple-bernard",
   "metadata": {},
   "source": [
    "### End of classification"
   ]
  },
  {
   "cell_type": "markdown",
   "id": "offshore-vacuum",
   "metadata": {},
   "source": [
    "#### If you find this notebook useful then please upvote"
   ]
  }
 ],
 "metadata": {
  "kernelspec": {
   "display_name": "Python 3",
   "language": "python",
   "name": "python3"
  },
  "language_info": {
   "codemirror_mode": {
    "name": "ipython",
    "version": 3
   },
   "file_extension": ".py",
   "mimetype": "text/x-python",
   "name": "python",
   "nbconvert_exporter": "python",
   "pygments_lexer": "ipython3",
   "version": "3.9.1"
  }
 },
 "nbformat": 4,
 "nbformat_minor": 5
}
